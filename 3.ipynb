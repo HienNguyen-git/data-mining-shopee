{
 "cells": [
  {
   "cell_type": "code",
   "execution_count": 2,
   "metadata": {},
   "outputs": [
    {
     "name": "stdout",
     "output_type": "stream",
     "text": [
      "- Finish importing packages\n"
     ]
    }
   ],
   "source": [
    "# Import libraries and packages for the project \n",
    "\n",
    "from selenium import webdriver\n",
    "from tqdm.notebook import tqdm\n",
    "from selenium.webdriver.common.keys import Keys\n",
    "from bs4 import BeautifulSoup\n",
    "from time import sleep\n",
    "from selenium.webdriver.support.ui import WebDriverWait\n",
    "from selenium.webdriver.support import expected_conditions as EC\n",
    "import csv\n",
    "from selenium.webdriver.chrome.service import Service\n",
    "from webdriver_manager.chrome import ChromeDriverManager\n",
    "from selenium.webdriver.chrome.options import Options\n",
    "from selenium.webdriver.common.by import By\n",
    "from selenium.common.exceptions import TimeoutException\n",
    "import random\n",
    "import numpy as np\n",
    "import pandas as pd\n",
    "from underthesea import sentiment\n",
    "\n",
    "\n",
    "print('- Finish importing packages')"
   ]
  },
  {
   "cell_type": "code",
   "execution_count": 3,
   "metadata": {},
   "outputs": [
    {
     "data": {
      "text/html": [
       "<div>\n",
       "<style scoped>\n",
       "    .dataframe tbody tr th:only-of-type {\n",
       "        vertical-align: middle;\n",
       "    }\n",
       "\n",
       "    .dataframe tbody tr th {\n",
       "        vertical-align: top;\n",
       "    }\n",
       "\n",
       "    .dataframe thead th {\n",
       "        text-align: right;\n",
       "    }\n",
       "</style>\n",
       "<table border=\"1\" class=\"dataframe\">\n",
       "  <thead>\n",
       "    <tr style=\"text-align: right;\">\n",
       "      <th></th>\n",
       "      <th>Order</th>\n",
       "      <th>Name</th>\n",
       "      <th>URL</th>\n",
       "    </tr>\n",
       "  </thead>\n",
       "  <tbody>\n",
       "    <tr>\n",
       "      <th>0</th>\n",
       "      <td>1</td>\n",
       "      <td>Abbott</td>\n",
       "      <td>https://shopee.vn/abbottofficial</td>\n",
       "    </tr>\n",
       "    <tr>\n",
       "      <th>1</th>\n",
       "      <td>2</td>\n",
       "      <td>Adidas Official Store</td>\n",
       "      <td>https://shopee.vn/adidasofficialstore</td>\n",
       "    </tr>\n",
       "    <tr>\n",
       "      <th>2</th>\n",
       "      <td>3</td>\n",
       "      <td>Alobuy</td>\n",
       "      <td>https://shopee.vn/1khovn_bach_hoa_tien_loi</td>\n",
       "    </tr>\n",
       "    <tr>\n",
       "      <th>3</th>\n",
       "      <td>4</td>\n",
       "      <td>Amak</td>\n",
       "      <td>https://shopee.vn/nhasachamak</td>\n",
       "    </tr>\n",
       "    <tr>\n",
       "      <th>4</th>\n",
       "      <td>5</td>\n",
       "      <td>An Nguyên</td>\n",
       "      <td>https://shopee.vn/sachhayquanhieu</td>\n",
       "    </tr>\n",
       "  </tbody>\n",
       "</table>\n",
       "</div>"
      ],
      "text/plain": [
       "   Order                   Name                                         URL\n",
       "0      1                 Abbott            https://shopee.vn/abbottofficial\n",
       "1      2  Adidas Official Store       https://shopee.vn/adidasofficialstore\n",
       "2      3                 Alobuy  https://shopee.vn/1khovn_bach_hoa_tien_loi\n",
       "3      4                   Amak               https://shopee.vn/nhasachamak\n",
       "4      5              An Nguyên           https://shopee.vn/sachhayquanhieu"
      ]
     },
     "execution_count": 3,
     "metadata": {},
     "output_type": "execute_result"
    }
   ],
   "source": [
    "raw = pd.read_csv('ShopeeMall.csv')\n",
    "raw.head()"
   ]
  },
  {
   "cell_type": "code",
   "execution_count": 5,
   "metadata": {},
   "outputs": [],
   "source": [
    "df = np.array(raw)"
   ]
  },
  {
   "cell_type": "code",
   "execution_count": 5,
   "metadata": {},
   "outputs": [
    {
     "name": "stdout",
     "output_type": "stream",
     "text": [
      "\n"
     ]
    },
    {
     "name": "stderr",
     "output_type": "stream",
     "text": [
      "[WDM] - ====== WebDriver manager ======\n",
      "[WDM] - Current google-chrome version is 104.0.5112\n",
      "[WDM] - Get LATEST chromedriver version for 104.0.5112 google-chrome\n",
      "[WDM] - Driver [/home/dijkstra/.wdm/drivers/chromedriver/linux64/104.0.5112.20/chromedriver] found in cache\n"
     ]
    }
   ],
   "source": [
    "service = Service(executable_path=ChromeDriverManager().install())\n",
    "driver = webdriver.Chrome(service=service)\n",
    "wait = WebDriverWait(driver,20)\n",
    "url = \"https://shopee.vn/\"\n",
    "# Login to shopee account\n",
    "login_url = \"https://shopee.vn/buyer/login/qr?next=https%3A%2F%2Fshopee.vn%2Fuser%2Fpurchase%2F\"\n",
    "driver.get(login_url)\n",
    "sleep(40)"
   ]
  },
  {
   "cell_type": "code",
   "execution_count": 6,
   "metadata": {},
   "outputs": [
    {
     "data": {
      "application/vnd.jupyter.widget-view+json": {
       "model_id": "21b45ecd2d53447888babe453e5c7ad5",
       "version_major": 2,
       "version_minor": 0
      },
      "text/plain": [
       "Processing:   0%|          | 0/26 [00:00<?, ?it/s]"
      ]
     },
     "metadata": {},
     "output_type": "display_data"
    },
    {
     "name": "stdout",
     "output_type": "stream",
     "text": [
      "- Accessing shop:  https://shopee.vn/chaangvietnam\n",
      "-- Getting data....\n",
      "-- Finished get data\n",
      "--- Access product pages\n",
      "************************\n"
     ]
    },
    {
     "data": {
      "application/vnd.jupyter.widget-view+json": {
       "model_id": "3b5a5b0ed3fe427e95c1d298e611a15c",
       "version_major": 2,
       "version_minor": 0
      },
      "text/plain": [
       "Current/Total:   0%|          | 0/30 [00:00<?, ?it/s]"
      ]
     },
     "metadata": {},
     "output_type": "display_data"
    },
    {
     "data": {
      "application/vnd.jupyter.widget-view+json": {
       "model_id": "77e2639b22fa4198b880dd23e6f9541d",
       "version_major": 2,
       "version_minor": 0
      },
      "text/plain": [
       "Current/Total:   0%|          | 0/30 [00:00<?, ?it/s]"
      ]
     },
     "metadata": {},
     "output_type": "display_data"
    },
    {
     "data": {
      "application/vnd.jupyter.widget-view+json": {
       "model_id": "dccdc1a874cc45c28757a5768f838959",
       "version_major": 2,
       "version_minor": 0
      },
      "text/plain": [
       "Current/Total:   0%|          | 0/30 [00:00<?, ?it/s]"
      ]
     },
     "metadata": {},
     "output_type": "display_data"
    },
    {
     "data": {
      "application/vnd.jupyter.widget-view+json": {
       "model_id": "26bbc11c584e4d08824b80bae01c7a5f",
       "version_major": 2,
       "version_minor": 0
      },
      "text/plain": [
       "Current/Total:   0%|          | 0/30 [00:00<?, ?it/s]"
      ]
     },
     "metadata": {},
     "output_type": "display_data"
    },
    {
     "name": "stdout",
     "output_type": "stream",
     "text": [
      "************************\n",
      "- Accessing shop:  https://shopee.vn/choobe.official\n",
      "-- Getting data....\n",
      "-- Finished get data\n",
      "--- Access product pages\n",
      "************************\n"
     ]
    },
    {
     "data": {
      "application/vnd.jupyter.widget-view+json": {
       "model_id": "69daac1e9df64e43b0d45983f7e4a87d",
       "version_major": 2,
       "version_minor": 0
      },
      "text/plain": [
       "Current/Total:   0%|          | 0/30 [00:00<?, ?it/s]"
      ]
     },
     "metadata": {},
     "output_type": "display_data"
    },
    {
     "data": {
      "application/vnd.jupyter.widget-view+json": {
       "model_id": "2aab8c57b11843feb0324c043bc0da05",
       "version_major": 2,
       "version_minor": 0
      },
      "text/plain": [
       "Current/Total:   0%|          | 0/30 [00:00<?, ?it/s]"
      ]
     },
     "metadata": {},
     "output_type": "display_data"
    },
    {
     "data": {
      "application/vnd.jupyter.widget-view+json": {
       "model_id": "39023250180d4ce08a93d7385a5c0e14",
       "version_major": 2,
       "version_minor": 0
      },
      "text/plain": [
       "Current/Total:   0%|          | 0/30 [00:00<?, ?it/s]"
      ]
     },
     "metadata": {},
     "output_type": "display_data"
    },
    {
     "data": {
      "application/vnd.jupyter.widget-view+json": {
       "model_id": "7e19edeb9ee442b3882e0c69bd9e1385",
       "version_major": 2,
       "version_minor": 0
      },
      "text/plain": [
       "Current/Total:   0%|          | 0/15 [00:00<?, ?it/s]"
      ]
     },
     "metadata": {},
     "output_type": "display_data"
    },
    {
     "name": "stdout",
     "output_type": "stream",
     "text": [
      "************************\n",
      "- Accessing shop:  https://shopee.vn/scc_officialstore\n",
      "-- Getting data....\n",
      "-- Finished get data\n",
      "--- Access product pages\n",
      "************************\n"
     ]
    },
    {
     "data": {
      "application/vnd.jupyter.widget-view+json": {
       "model_id": "1f6cb787013747b9abe19d779ddb3af2",
       "version_major": 2,
       "version_minor": 0
      },
      "text/plain": [
       "Current/Total:   0%|          | 0/30 [00:00<?, ?it/s]"
      ]
     },
     "metadata": {},
     "output_type": "display_data"
    },
    {
     "data": {
      "application/vnd.jupyter.widget-view+json": {
       "model_id": "680c9d327b3f49768f745442b7205673",
       "version_major": 2,
       "version_minor": 0
      },
      "text/plain": [
       "Current/Total:   0%|          | 0/30 [00:00<?, ?it/s]"
      ]
     },
     "metadata": {},
     "output_type": "display_data"
    },
    {
     "data": {
      "application/vnd.jupyter.widget-view+json": {
       "model_id": "50cc0fa2a032450f94eb7c89b138f2cf",
       "version_major": 2,
       "version_minor": 0
      },
      "text/plain": [
       "Current/Total:   0%|          | 0/28 [00:00<?, ?it/s]"
      ]
     },
     "metadata": {},
     "output_type": "display_data"
    },
    {
     "data": {
      "application/vnd.jupyter.widget-view+json": {
       "model_id": "5595bc24d28d44c19a550d30cc5731e0",
       "version_major": 2,
       "version_minor": 0
      },
      "text/plain": [
       "Current/Total:   0%|          | 0/28 [00:00<?, ?it/s]"
      ]
     },
     "metadata": {},
     "output_type": "display_data"
    },
    {
     "name": "stdout",
     "output_type": "stream",
     "text": [
      "************************\n",
      "- Accessing shop:  https://shopee.vn/ckeyin.vn\n",
      "-- Getting data....\n",
      "-- Finished get data\n",
      "--- Access product pages\n",
      "************************\n"
     ]
    },
    {
     "data": {
      "application/vnd.jupyter.widget-view+json": {
       "model_id": "f6c1e200239a40c19042daa5cfee1f8c",
       "version_major": 2,
       "version_minor": 0
      },
      "text/plain": [
       "Current/Total:   0%|          | 0/30 [00:00<?, ?it/s]"
      ]
     },
     "metadata": {},
     "output_type": "display_data"
    },
    {
     "data": {
      "application/vnd.jupyter.widget-view+json": {
       "model_id": "b3180abf918a4813a940762aae6d6ca6",
       "version_major": 2,
       "version_minor": 0
      },
      "text/plain": [
       "Current/Total:   0%|          | 0/30 [00:00<?, ?it/s]"
      ]
     },
     "metadata": {},
     "output_type": "display_data"
    },
    {
     "data": {
      "application/vnd.jupyter.widget-view+json": {
       "model_id": "5f4bc9666a34405cb74056ef21dfe32f",
       "version_major": 2,
       "version_minor": 0
      },
      "text/plain": [
       "Current/Total:   0%|          | 0/30 [00:00<?, ?it/s]"
      ]
     },
     "metadata": {},
     "output_type": "display_data"
    },
    {
     "data": {
      "application/vnd.jupyter.widget-view+json": {
       "model_id": "49a4df2d78614d5486902b59c72e9a60",
       "version_major": 2,
       "version_minor": 0
      },
      "text/plain": [
       "Current/Total:   0%|          | 0/30 [00:00<?, ?it/s]"
      ]
     },
     "metadata": {},
     "output_type": "display_data"
    },
    {
     "name": "stdout",
     "output_type": "stream",
     "text": [
      "************************\n",
      "- Accessing shop:  https://shopee.vn/johnson_johnson_official\n",
      "-- Getting data....\n",
      "-- Finished get data\n",
      "--- Access product pages\n",
      "************************\n"
     ]
    },
    {
     "data": {
      "application/vnd.jupyter.widget-view+json": {
       "model_id": "f118c5ba810c4fb79ada89ff60ff45f9",
       "version_major": 2,
       "version_minor": 0
      },
      "text/plain": [
       "Current/Total:   0%|          | 0/30 [00:00<?, ?it/s]"
      ]
     },
     "metadata": {},
     "output_type": "display_data"
    },
    {
     "data": {
      "application/vnd.jupyter.widget-view+json": {
       "model_id": "83441dc3f89343b7a1506abca0288abf",
       "version_major": 2,
       "version_minor": 0
      },
      "text/plain": [
       "Current/Total:   0%|          | 0/30 [00:00<?, ?it/s]"
      ]
     },
     "metadata": {},
     "output_type": "display_data"
    },
    {
     "data": {
      "application/vnd.jupyter.widget-view+json": {
       "model_id": "5739fbf6581b490b9e0ff554f50adb4d",
       "version_major": 2,
       "version_minor": 0
      },
      "text/plain": [
       "Current/Total:   0%|          | 0/30 [00:00<?, ?it/s]"
      ]
     },
     "metadata": {},
     "output_type": "display_data"
    },
    {
     "data": {
      "application/vnd.jupyter.widget-view+json": {
       "model_id": "f6daebb17f0e44f5806be7dbd5094cf3",
       "version_major": 2,
       "version_minor": 0
      },
      "text/plain": [
       "Current/Total:   0%|          | 0/24 [00:00<?, ?it/s]"
      ]
     },
     "metadata": {},
     "output_type": "display_data"
    },
    {
     "name": "stdout",
     "output_type": "stream",
     "text": [
      "************************\n",
      "- Accessing shop:  https://shopee.vn/tuixachcnt\n",
      "-- Getting data....\n",
      "-- Finished get data\n",
      "--- Access product pages\n",
      "************************\n"
     ]
    },
    {
     "data": {
      "application/vnd.jupyter.widget-view+json": {
       "model_id": "cd442ba8459e4f80a20505e6f870a2c7",
       "version_major": 2,
       "version_minor": 0
      },
      "text/plain": [
       "Current/Total:   0%|          | 0/30 [00:00<?, ?it/s]"
      ]
     },
     "metadata": {},
     "output_type": "display_data"
    },
    {
     "data": {
      "application/vnd.jupyter.widget-view+json": {
       "model_id": "67b43abe3bf04059bd57b23938fe7e41",
       "version_major": 2,
       "version_minor": 0
      },
      "text/plain": [
       "Current/Total:   0%|          | 0/30 [00:00<?, ?it/s]"
      ]
     },
     "metadata": {},
     "output_type": "display_data"
    },
    {
     "data": {
      "application/vnd.jupyter.widget-view+json": {
       "model_id": "ecc8dd5541c44602a5da26e9bcfc89bb",
       "version_major": 2,
       "version_minor": 0
      },
      "text/plain": [
       "Current/Total:   0%|          | 0/30 [00:00<?, ?it/s]"
      ]
     },
     "metadata": {},
     "output_type": "display_data"
    },
    {
     "data": {
      "application/vnd.jupyter.widget-view+json": {
       "model_id": "5c79111679c149308ab6f0e4ed41e420",
       "version_major": 2,
       "version_minor": 0
      },
      "text/plain": [
       "Current/Total:   0%|          | 0/30 [00:00<?, ?it/s]"
      ]
     },
     "metadata": {},
     "output_type": "display_data"
    },
    {
     "name": "stdout",
     "output_type": "stream",
     "text": [
      "************************\n",
      "- Accessing shop:  https://shopee.vn/thovaushop_officialstore\n",
      "-- Getting data....\n",
      "-- Finished get data\n",
      "--- Access product pages\n",
      "************************\n"
     ]
    },
    {
     "data": {
      "application/vnd.jupyter.widget-view+json": {
       "model_id": "50231ea881b744bcbe596943df4f80cd",
       "version_major": 2,
       "version_minor": 0
      },
      "text/plain": [
       "Current/Total:   0%|          | 0/30 [00:00<?, ?it/s]"
      ]
     },
     "metadata": {},
     "output_type": "display_data"
    },
    {
     "data": {
      "application/vnd.jupyter.widget-view+json": {
       "model_id": "f493476667a14d2a92ba1fcfe9fc5133",
       "version_major": 2,
       "version_minor": 0
      },
      "text/plain": [
       "Current/Total:   0%|          | 0/30 [00:00<?, ?it/s]"
      ]
     },
     "metadata": {},
     "output_type": "display_data"
    },
    {
     "data": {
      "application/vnd.jupyter.widget-view+json": {
       "model_id": "702c5c40c2704e179bd08fbe07b96395",
       "version_major": 2,
       "version_minor": 0
      },
      "text/plain": [
       "Current/Total:   0%|          | 0/30 [00:00<?, ?it/s]"
      ]
     },
     "metadata": {},
     "output_type": "display_data"
    },
    {
     "data": {
      "application/vnd.jupyter.widget-view+json": {
       "model_id": "1861fd73641d4038b11bbd093cd03deb",
       "version_major": 2,
       "version_minor": 0
      },
      "text/plain": [
       "Current/Total:   0%|          | 0/30 [00:00<?, ?it/s]"
      ]
     },
     "metadata": {},
     "output_type": "display_data"
    },
    {
     "name": "stdout",
     "output_type": "stream",
     "text": [
      "************************\n",
      "- Accessing shop:  https://shopee.vn/davies.vn\n",
      "-- Getting data....\n",
      "-- Finished get data\n",
      "--- Access product pages\n",
      "************************\n"
     ]
    },
    {
     "data": {
      "application/vnd.jupyter.widget-view+json": {
       "model_id": "25eb987c3d44473ab97abe31de659a81",
       "version_major": 2,
       "version_minor": 0
      },
      "text/plain": [
       "Current/Total:   0%|          | 0/30 [00:00<?, ?it/s]"
      ]
     },
     "metadata": {},
     "output_type": "display_data"
    },
    {
     "data": {
      "application/vnd.jupyter.widget-view+json": {
       "model_id": "60f685a9a782467eb95898251adbe1df",
       "version_major": 2,
       "version_minor": 0
      },
      "text/plain": [
       "Current/Total:   0%|          | 0/30 [00:00<?, ?it/s]"
      ]
     },
     "metadata": {},
     "output_type": "display_data"
    },
    {
     "data": {
      "application/vnd.jupyter.widget-view+json": {
       "model_id": "97add172eb0741c6802eb8565382bbd3",
       "version_major": 2,
       "version_minor": 0
      },
      "text/plain": [
       "Current/Total:   0%|          | 0/30 [00:00<?, ?it/s]"
      ]
     },
     "metadata": {},
     "output_type": "display_data"
    },
    {
     "data": {
      "application/vnd.jupyter.widget-view+json": {
       "model_id": "d166ab7262744a26880e0046e5a5100b",
       "version_major": 2,
       "version_minor": 0
      },
      "text/plain": [
       "Current/Total:   0%|          | 0/30 [00:00<?, ?it/s]"
      ]
     },
     "metadata": {},
     "output_type": "display_data"
    },
    {
     "name": "stdout",
     "output_type": "stream",
     "text": [
      "************************\n",
      "- Accessing shop:  https://shopee.vn/decathlon_vietnam\n",
      "-- Getting data....\n",
      "-- Finished get data\n",
      "--- Access product pages\n",
      "************************\n"
     ]
    },
    {
     "data": {
      "application/vnd.jupyter.widget-view+json": {
       "model_id": "ee9911819f7e483e900166603207ca8c",
       "version_major": 2,
       "version_minor": 0
      },
      "text/plain": [
       "Current/Total:   0%|          | 0/30 [00:00<?, ?it/s]"
      ]
     },
     "metadata": {},
     "output_type": "display_data"
    },
    {
     "data": {
      "application/vnd.jupyter.widget-view+json": {
       "model_id": "251989d5ec1e4afc960735dc4b5d81dc",
       "version_major": 2,
       "version_minor": 0
      },
      "text/plain": [
       "Current/Total:   0%|          | 0/30 [00:00<?, ?it/s]"
      ]
     },
     "metadata": {},
     "output_type": "display_data"
    },
    {
     "data": {
      "application/vnd.jupyter.widget-view+json": {
       "model_id": "4f34c4a4ede24ec38d632398336472b6",
       "version_major": 2,
       "version_minor": 0
      },
      "text/plain": [
       "Current/Total:   0%|          | 0/30 [00:00<?, ?it/s]"
      ]
     },
     "metadata": {},
     "output_type": "display_data"
    },
    {
     "data": {
      "application/vnd.jupyter.widget-view+json": {
       "model_id": "caf1ef976d7743df8573af63bf837c1d",
       "version_major": 2,
       "version_minor": 0
      },
      "text/plain": [
       "Current/Total:   0%|          | 0/30 [00:00<?, ?it/s]"
      ]
     },
     "metadata": {},
     "output_type": "display_data"
    },
    {
     "name": "stdout",
     "output_type": "stream",
     "text": [
      "************************\n",
      "- Accessing shop:  https://shopee.vn/delivietnam\n",
      "-- Getting data....\n",
      "-- Finished get data\n",
      "--- Access product pages\n",
      "************************\n"
     ]
    },
    {
     "data": {
      "application/vnd.jupyter.widget-view+json": {
       "model_id": "07023e70af804560bc88ca5ce618140b",
       "version_major": 2,
       "version_minor": 0
      },
      "text/plain": [
       "Current/Total:   0%|          | 0/30 [00:00<?, ?it/s]"
      ]
     },
     "metadata": {},
     "output_type": "display_data"
    },
    {
     "data": {
      "application/vnd.jupyter.widget-view+json": {
       "model_id": "6cf4ccc7332f4a80834e20310356bdf5",
       "version_major": 2,
       "version_minor": 0
      },
      "text/plain": [
       "Current/Total:   0%|          | 0/30 [00:00<?, ?it/s]"
      ]
     },
     "metadata": {},
     "output_type": "display_data"
    },
    {
     "data": {
      "application/vnd.jupyter.widget-view+json": {
       "model_id": "2d29724fe7b04447b03a5fc7fc900274",
       "version_major": 2,
       "version_minor": 0
      },
      "text/plain": [
       "Current/Total:   0%|          | 0/30 [00:00<?, ?it/s]"
      ]
     },
     "metadata": {},
     "output_type": "display_data"
    },
    {
     "data": {
      "application/vnd.jupyter.widget-view+json": {
       "model_id": "a3731ee4e1024229907092ff19eabafd",
       "version_major": 2,
       "version_minor": 0
      },
      "text/plain": [
       "Current/Total:   0%|          | 0/30 [00:00<?, ?it/s]"
      ]
     },
     "metadata": {},
     "output_type": "display_data"
    },
    {
     "name": "stdout",
     "output_type": "stream",
     "text": [
      "************************\n",
      "- Accessing shop:  https://shopee.vn/dhc_officialstore\n",
      "-- Getting data....\n",
      "-- Finished get data\n",
      "--- Access product pages\n",
      "************************\n"
     ]
    },
    {
     "data": {
      "application/vnd.jupyter.widget-view+json": {
       "model_id": "6cd6ff663f21476dbed491c1d65e0aa7",
       "version_major": 2,
       "version_minor": 0
      },
      "text/plain": [
       "Current/Total:   0%|          | 0/30 [00:00<?, ?it/s]"
      ]
     },
     "metadata": {},
     "output_type": "display_data"
    },
    {
     "data": {
      "application/vnd.jupyter.widget-view+json": {
       "model_id": "53d5c688ca894bcdb73098b28a20b908",
       "version_major": 2,
       "version_minor": 0
      },
      "text/plain": [
       "Current/Total:   0%|          | 0/30 [00:00<?, ?it/s]"
      ]
     },
     "metadata": {},
     "output_type": "display_data"
    },
    {
     "data": {
      "application/vnd.jupyter.widget-view+json": {
       "model_id": "6b6aa0fc6d4d46758c9a2668dd531d84",
       "version_major": 2,
       "version_minor": 0
      },
      "text/plain": [
       "Current/Total:   0%|          | 0/30 [00:00<?, ?it/s]"
      ]
     },
     "metadata": {},
     "output_type": "display_data"
    },
    {
     "data": {
      "application/vnd.jupyter.widget-view+json": {
       "model_id": "c3535a3b097d4d18ab000638859e1355",
       "version_major": 2,
       "version_minor": 0
      },
      "text/plain": [
       "Current/Total:   0%|          | 0/30 [00:00<?, ?it/s]"
      ]
     },
     "metadata": {},
     "output_type": "display_data"
    },
    {
     "name": "stdout",
     "output_type": "stream",
     "text": [
      "************************\n",
      "- Accessing shop:  https://shopee.vn/dincox_shoes\n",
      "-- Getting data....\n",
      "-- Finished get data\n",
      "--- Access product pages\n",
      "************************\n"
     ]
    },
    {
     "data": {
      "application/vnd.jupyter.widget-view+json": {
       "model_id": "fcabcc9d1c4f4d7e8dd7cc61c596d4bb",
       "version_major": 2,
       "version_minor": 0
      },
      "text/plain": [
       "Current/Total:   0%|          | 0/30 [00:00<?, ?it/s]"
      ]
     },
     "metadata": {},
     "output_type": "display_data"
    },
    {
     "data": {
      "application/vnd.jupyter.widget-view+json": {
       "model_id": "60e3d848919d4720832dfc71329b600f",
       "version_major": 2,
       "version_minor": 0
      },
      "text/plain": [
       "Current/Total:   0%|          | 0/30 [00:00<?, ?it/s]"
      ]
     },
     "metadata": {},
     "output_type": "display_data"
    },
    {
     "data": {
      "application/vnd.jupyter.widget-view+json": {
       "model_id": "e8300545cc264bb18893554d077f7529",
       "version_major": 2,
       "version_minor": 0
      },
      "text/plain": [
       "Current/Total:   0%|          | 0/30 [00:00<?, ?it/s]"
      ]
     },
     "metadata": {},
     "output_type": "display_data"
    },
    {
     "data": {
      "application/vnd.jupyter.widget-view+json": {
       "model_id": "899022d6755445d6b5591a3119ce7430",
       "version_major": 2,
       "version_minor": 0
      },
      "text/plain": [
       "Current/Total:   0%|          | 0/10 [00:00<?, ?it/s]"
      ]
     },
     "metadata": {},
     "output_type": "display_data"
    },
    {
     "name": "stdout",
     "output_type": "stream",
     "text": [
      "************************\n",
      "- Accessing shop:  https://shopee.vn/dirtycoins\n",
      "-- Getting data....\n",
      "-- Finished get data\n",
      "--- Access product pages\n",
      "************************\n"
     ]
    },
    {
     "data": {
      "application/vnd.jupyter.widget-view+json": {
       "model_id": "98ca5fef6f084e44b7c22dad999d2c38",
       "version_major": 2,
       "version_minor": 0
      },
      "text/plain": [
       "Current/Total:   0%|          | 0/30 [00:00<?, ?it/s]"
      ]
     },
     "metadata": {},
     "output_type": "display_data"
    },
    {
     "data": {
      "application/vnd.jupyter.widget-view+json": {
       "model_id": "4a8e382a2dbe4b4d8b087009d7bfc1b8",
       "version_major": 2,
       "version_minor": 0
      },
      "text/plain": [
       "Current/Total:   0%|          | 0/30 [00:00<?, ?it/s]"
      ]
     },
     "metadata": {},
     "output_type": "display_data"
    },
    {
     "data": {
      "application/vnd.jupyter.widget-view+json": {
       "model_id": "aa30eca18f7c41bcbba19f25f69bf893",
       "version_major": 2,
       "version_minor": 0
      },
      "text/plain": [
       "Current/Total:   0%|          | 0/30 [00:00<?, ?it/s]"
      ]
     },
     "metadata": {},
     "output_type": "display_data"
    },
    {
     "data": {
      "application/vnd.jupyter.widget-view+json": {
       "model_id": "2759fc4bc2f54eaba7865ac9d8cefec9",
       "version_major": 2,
       "version_minor": 0
      },
      "text/plain": [
       "Current/Total:   0%|          | 0/30 [00:00<?, ?it/s]"
      ]
     },
     "metadata": {},
     "output_type": "display_data"
    },
    {
     "name": "stdout",
     "output_type": "stream",
     "text": [
      "************************\n",
      "- Accessing shop:  https://shopee.vn/dk_harvest\n",
      "-- Getting data....\n",
      "-- Finished get data\n",
      "--- Access product pages\n",
      "************************\n"
     ]
    },
    {
     "data": {
      "application/vnd.jupyter.widget-view+json": {
       "model_id": "e35aaec0a40b4d429c9a4ab137c3abc7",
       "version_major": 2,
       "version_minor": 0
      },
      "text/plain": [
       "Current/Total:   0%|          | 0/30 [00:00<?, ?it/s]"
      ]
     },
     "metadata": {},
     "output_type": "display_data"
    },
    {
     "data": {
      "application/vnd.jupyter.widget-view+json": {
       "model_id": "6fe8431386e64432910b4804f9a12dfb",
       "version_major": 2,
       "version_minor": 0
      },
      "text/plain": [
       "Current/Total:   0%|          | 0/30 [00:00<?, ?it/s]"
      ]
     },
     "metadata": {},
     "output_type": "display_data"
    },
    {
     "data": {
      "application/vnd.jupyter.widget-view+json": {
       "model_id": "62cc0ffcead54e11aa36dfae56ae3997",
       "version_major": 2,
       "version_minor": 0
      },
      "text/plain": [
       "Current/Total:   0%|          | 0/30 [00:00<?, ?it/s]"
      ]
     },
     "metadata": {},
     "output_type": "display_data"
    },
    {
     "data": {
      "application/vnd.jupyter.widget-view+json": {
       "model_id": "6373651284dd4e06af27568d00254302",
       "version_major": 2,
       "version_minor": 0
      },
      "text/plain": [
       "Current/Total:   0%|          | 0/14 [00:00<?, ?it/s]"
      ]
     },
     "metadata": {},
     "output_type": "display_data"
    },
    {
     "name": "stdout",
     "output_type": "stream",
     "text": [
      "************************\n",
      "- Accessing shop:  https://shopee.vn/garden_tools_greenhome\n",
      "-- Getting data....\n",
      "-- Finished get data\n",
      "--- Access product pages\n",
      "************************\n"
     ]
    },
    {
     "data": {
      "application/vnd.jupyter.widget-view+json": {
       "model_id": "7cd279bf234f4f648cca09ba6d3ad927",
       "version_major": 2,
       "version_minor": 0
      },
      "text/plain": [
       "Current/Total:   0%|          | 0/30 [00:00<?, ?it/s]"
      ]
     },
     "metadata": {},
     "output_type": "display_data"
    },
    {
     "data": {
      "application/vnd.jupyter.widget-view+json": {
       "model_id": "e14775c135d747f0b21de61ae988a890",
       "version_major": 2,
       "version_minor": 0
      },
      "text/plain": [
       "Current/Total:   0%|          | 0/30 [00:00<?, ?it/s]"
      ]
     },
     "metadata": {},
     "output_type": "display_data"
    },
    {
     "data": {
      "application/vnd.jupyter.widget-view+json": {
       "model_id": "81e7a9b66a634b2b9a69b2ce5c2e67ab",
       "version_major": 2,
       "version_minor": 0
      },
      "text/plain": [
       "Current/Total:   0%|          | 0/30 [00:00<?, ?it/s]"
      ]
     },
     "metadata": {},
     "output_type": "display_data"
    },
    {
     "data": {
      "application/vnd.jupyter.widget-view+json": {
       "model_id": "8257f00c3d75449190b239d6d37896fa",
       "version_major": 2,
       "version_minor": 0
      },
      "text/plain": [
       "Current/Total:   0%|          | 0/30 [00:00<?, ?it/s]"
      ]
     },
     "metadata": {},
     "output_type": "display_data"
    },
    {
     "name": "stdout",
     "output_type": "stream",
     "text": [
      "************************\n",
      "- Accessing shop:  https://shopee.vn/dr.saffron_official_store\n",
      "-- Getting data....\n",
      "-- Finished get data\n",
      "--- Access product pages\n",
      "************************\n"
     ]
    },
    {
     "data": {
      "application/vnd.jupyter.widget-view+json": {
       "model_id": "15b7dbcb88224c72a787b1d1d309f677",
       "version_major": 2,
       "version_minor": 0
      },
      "text/plain": [
       "Current/Total:   0%|          | 0/30 [00:00<?, ?it/s]"
      ]
     },
     "metadata": {},
     "output_type": "display_data"
    },
    {
     "data": {
      "application/vnd.jupyter.widget-view+json": {
       "model_id": "71dd16e1b71d45e2aa413e5fdb0e3d67",
       "version_major": 2,
       "version_minor": 0
      },
      "text/plain": [
       "Current/Total:   0%|          | 0/30 [00:00<?, ?it/s]"
      ]
     },
     "metadata": {},
     "output_type": "display_data"
    },
    {
     "data": {
      "application/vnd.jupyter.widget-view+json": {
       "model_id": "a0dcd35d62fc471d938ca69cbf328179",
       "version_major": 2,
       "version_minor": 0
      },
      "text/plain": [
       "Current/Total:   0%|          | 0/30 [00:00<?, ?it/s]"
      ]
     },
     "metadata": {},
     "output_type": "display_data"
    },
    {
     "data": {
      "application/vnd.jupyter.widget-view+json": {
       "model_id": "1807c1dec6be441b8a9025854143bae1",
       "version_major": 2,
       "version_minor": 0
      },
      "text/plain": [
       "Current/Total:   0%|          | 0/30 [00:00<?, ?it/s]"
      ]
     },
     "metadata": {},
     "output_type": "display_data"
    },
    {
     "name": "stdout",
     "output_type": "stream",
     "text": [
      "************************\n",
      "- Accessing shop:  https://shopee.vn/earldom.store\n",
      "-- Getting data....\n",
      "-- Finished get data\n",
      "--- Access product pages\n",
      "************************\n"
     ]
    },
    {
     "data": {
      "application/vnd.jupyter.widget-view+json": {
       "model_id": "e7cd6806ce834806847397c28dd31b56",
       "version_major": 2,
       "version_minor": 0
      },
      "text/plain": [
       "Current/Total:   0%|          | 0/30 [00:00<?, ?it/s]"
      ]
     },
     "metadata": {},
     "output_type": "display_data"
    },
    {
     "data": {
      "application/vnd.jupyter.widget-view+json": {
       "model_id": "774f6cc278ff494bb31f757aecf17af4",
       "version_major": 2,
       "version_minor": 0
      },
      "text/plain": [
       "Current/Total:   0%|          | 0/30 [00:00<?, ?it/s]"
      ]
     },
     "metadata": {},
     "output_type": "display_data"
    },
    {
     "data": {
      "application/vnd.jupyter.widget-view+json": {
       "model_id": "a492632afe074d10a1a3bd5854ad3f6e",
       "version_major": 2,
       "version_minor": 0
      },
      "text/plain": [
       "Current/Total:   0%|          | 0/23 [00:00<?, ?it/s]"
      ]
     },
     "metadata": {},
     "output_type": "display_data"
    },
    {
     "data": {
      "application/vnd.jupyter.widget-view+json": {
       "model_id": "185d5db84e154bfc8d033236a542a6a5",
       "version_major": 2,
       "version_minor": 0
      },
      "text/plain": [
       "Current/Total:   0%|          | 0/23 [00:00<?, ?it/s]"
      ]
     },
     "metadata": {},
     "output_type": "display_data"
    },
    {
     "name": "stdout",
     "output_type": "stream",
     "text": [
      "************************\n",
      "- Accessing shop:  https://shopee.vn/elmartvn\n",
      "-- Getting data....\n",
      "-- Finished get data\n",
      "--- Access product pages\n",
      "************************\n"
     ]
    },
    {
     "data": {
      "application/vnd.jupyter.widget-view+json": {
       "model_id": "8f04a17b58f14581a3eb1302650002da",
       "version_major": 2,
       "version_minor": 0
      },
      "text/plain": [
       "Current/Total:   0%|          | 0/6 [00:00<?, ?it/s]"
      ]
     },
     "metadata": {},
     "output_type": "display_data"
    },
    {
     "data": {
      "application/vnd.jupyter.widget-view+json": {
       "model_id": "70c4fabacfae4689a299899111c07f26",
       "version_major": 2,
       "version_minor": 0
      },
      "text/plain": [
       "Current/Total:   0%|          | 0/6 [00:00<?, ?it/s]"
      ]
     },
     "metadata": {},
     "output_type": "display_data"
    },
    {
     "name": "stdout",
     "output_type": "stream",
     "text": [
      "************************\n",
      "- Accessing shop:  https://shopee.vn/eleanoraccessories\n",
      "-- Getting data....\n",
      "-- Finished get data\n",
      "--- Access product pages\n",
      "************************\n"
     ]
    },
    {
     "data": {
      "application/vnd.jupyter.widget-view+json": {
       "model_id": "b5a398cb7759408baa5da2dc35c8880f",
       "version_major": 2,
       "version_minor": 0
      },
      "text/plain": [
       "Current/Total:   0%|          | 0/30 [00:00<?, ?it/s]"
      ]
     },
     "metadata": {},
     "output_type": "display_data"
    },
    {
     "data": {
      "application/vnd.jupyter.widget-view+json": {
       "model_id": "af4020487fd5488db9ec326f7ccd13bc",
       "version_major": 2,
       "version_minor": 0
      },
      "text/plain": [
       "Current/Total:   0%|          | 0/30 [00:00<?, ?it/s]"
      ]
     },
     "metadata": {},
     "output_type": "display_data"
    },
    {
     "data": {
      "application/vnd.jupyter.widget-view+json": {
       "model_id": "8d8f113935c64d38ab38478395e5740e",
       "version_major": 2,
       "version_minor": 0
      },
      "text/plain": [
       "Current/Total:   0%|          | 0/30 [00:00<?, ?it/s]"
      ]
     },
     "metadata": {},
     "output_type": "display_data"
    },
    {
     "data": {
      "application/vnd.jupyter.widget-view+json": {
       "model_id": "57e6f8063bd643a885c9ace2a3380cce",
       "version_major": 2,
       "version_minor": 0
      },
      "text/plain": [
       "Current/Total:   0%|          | 0/30 [00:00<?, ?it/s]"
      ]
     },
     "metadata": {},
     "output_type": "display_data"
    },
    {
     "name": "stdout",
     "output_type": "stream",
     "text": [
      "************************\n",
      "- Accessing shop:  https://shopee.vn/emmibedding\n",
      "-- Getting data....\n",
      "-- Finished get data\n",
      "--- Access product pages\n",
      "************************\n"
     ]
    },
    {
     "data": {
      "application/vnd.jupyter.widget-view+json": {
       "model_id": "6baad1b2786b437c8b0770610d808629",
       "version_major": 2,
       "version_minor": 0
      },
      "text/plain": [
       "Current/Total:   0%|          | 0/30 [00:00<?, ?it/s]"
      ]
     },
     "metadata": {},
     "output_type": "display_data"
    },
    {
     "data": {
      "application/vnd.jupyter.widget-view+json": {
       "model_id": "bd9d9ea81fab49f39a7c4cafba1d39a0",
       "version_major": 2,
       "version_minor": 0
      },
      "text/plain": [
       "Current/Total:   0%|          | 0/30 [00:00<?, ?it/s]"
      ]
     },
     "metadata": {},
     "output_type": "display_data"
    },
    {
     "data": {
      "application/vnd.jupyter.widget-view+json": {
       "model_id": "aa0d6d9835dd45ffa5f58a25e8033e0c",
       "version_major": 2,
       "version_minor": 0
      },
      "text/plain": [
       "Current/Total:   0%|          | 0/30 [00:00<?, ?it/s]"
      ]
     },
     "metadata": {},
     "output_type": "display_data"
    },
    {
     "data": {
      "application/vnd.jupyter.widget-view+json": {
       "model_id": "622c29a74dc1466a8923d5eee580b5d2",
       "version_major": 2,
       "version_minor": 0
      },
      "text/plain": [
       "Current/Total:   0%|          | 0/30 [00:00<?, ?it/s]"
      ]
     },
     "metadata": {},
     "output_type": "display_data"
    },
    {
     "name": "stdout",
     "output_type": "stream",
     "text": [
      "************************\n",
      "- Accessing shop:  https://shopee.vn/enchanteur_vietnam\n",
      "-- Getting data....\n",
      "-- Finished get data\n",
      "--- Access product pages\n",
      "************************\n"
     ]
    },
    {
     "data": {
      "application/vnd.jupyter.widget-view+json": {
       "model_id": "10511af1e26549e0911ad431ec27d74f",
       "version_major": 2,
       "version_minor": 0
      },
      "text/plain": [
       "Current/Total:   0%|          | 0/30 [00:00<?, ?it/s]"
      ]
     },
     "metadata": {},
     "output_type": "display_data"
    },
    {
     "data": {
      "application/vnd.jupyter.widget-view+json": {
       "model_id": "8a3b7fd9013f4ed7908642d768f8da95",
       "version_major": 2,
       "version_minor": 0
      },
      "text/plain": [
       "Current/Total:   0%|          | 0/30 [00:00<?, ?it/s]"
      ]
     },
     "metadata": {},
     "output_type": "display_data"
    },
    {
     "data": {
      "application/vnd.jupyter.widget-view+json": {
       "model_id": "d774483104b4412baafc5d4431f85534",
       "version_major": 2,
       "version_minor": 0
      },
      "text/plain": [
       "Current/Total:   0%|          | 0/30 [00:00<?, ?it/s]"
      ]
     },
     "metadata": {},
     "output_type": "display_data"
    },
    {
     "data": {
      "application/vnd.jupyter.widget-view+json": {
       "model_id": "8cb6e195c91947dd87c2914d20712538",
       "version_major": 2,
       "version_minor": 0
      },
      "text/plain": [
       "Current/Total:   0%|          | 0/30 [00:00<?, ?it/s]"
      ]
     },
     "metadata": {},
     "output_type": "display_data"
    },
    {
     "name": "stdout",
     "output_type": "stream",
     "text": [
      "************************\n",
      "- Accessing shop:  https://shopee.vn/enfaofficialstore\n",
      "-- Getting data....\n",
      "-- Finished get data\n",
      "--- Access product pages\n",
      "************************\n"
     ]
    },
    {
     "data": {
      "application/vnd.jupyter.widget-view+json": {
       "model_id": "0bc29300c57a46b289c86d7c443d16ea",
       "version_major": 2,
       "version_minor": 0
      },
      "text/plain": [
       "Current/Total:   0%|          | 0/30 [00:00<?, ?it/s]"
      ]
     },
     "metadata": {},
     "output_type": "display_data"
    },
    {
     "data": {
      "application/vnd.jupyter.widget-view+json": {
       "model_id": "4fd76ba3ecb14a91892a8fde607ac0e6",
       "version_major": 2,
       "version_minor": 0
      },
      "text/plain": [
       "Current/Total:   0%|          | 0/30 [00:00<?, ?it/s]"
      ]
     },
     "metadata": {},
     "output_type": "display_data"
    },
    {
     "data": {
      "application/vnd.jupyter.widget-view+json": {
       "model_id": "9ec858b6f7364aab8f3fc148b4f1ecfa",
       "version_major": 2,
       "version_minor": 0
      },
      "text/plain": [
       "Current/Total:   0%|          | 0/30 [00:00<?, ?it/s]"
      ]
     },
     "metadata": {},
     "output_type": "display_data"
    },
    {
     "data": {
      "application/vnd.jupyter.widget-view+json": {
       "model_id": "6f6a69b6099f4a9eac20f1a8bfc8d9cd",
       "version_major": 2,
       "version_minor": 0
      },
      "text/plain": [
       "Current/Total:   0%|          | 0/7 [00:00<?, ?it/s]"
      ]
     },
     "metadata": {},
     "output_type": "display_data"
    },
    {
     "name": "stdout",
     "output_type": "stream",
     "text": [
      "************************\n",
      "- Accessing shop:  https://shopee.vn/erosska\n",
      "-- Getting data....\n",
      "-- Finished get data\n",
      "--- Access product pages\n",
      "************************\n"
     ]
    },
    {
     "data": {
      "application/vnd.jupyter.widget-view+json": {
       "model_id": "52ac6a00bf2d4601a69e149f47577210",
       "version_major": 2,
       "version_minor": 0
      },
      "text/plain": [
       "Current/Total:   0%|          | 0/30 [00:00<?, ?it/s]"
      ]
     },
     "metadata": {},
     "output_type": "display_data"
    },
    {
     "data": {
      "application/vnd.jupyter.widget-view+json": {
       "model_id": "8ac35592cd35441eae752d268a6d0213",
       "version_major": 2,
       "version_minor": 0
      },
      "text/plain": [
       "Current/Total:   0%|          | 0/30 [00:00<?, ?it/s]"
      ]
     },
     "metadata": {},
     "output_type": "display_data"
    },
    {
     "data": {
      "application/vnd.jupyter.widget-view+json": {
       "model_id": "5500a7c722fd4d099c1ea9723ef719c4",
       "version_major": 2,
       "version_minor": 0
      },
      "text/plain": [
       "Current/Total:   0%|          | 0/30 [00:00<?, ?it/s]"
      ]
     },
     "metadata": {},
     "output_type": "display_data"
    },
    {
     "data": {
      "application/vnd.jupyter.widget-view+json": {
       "model_id": "f1f6acb7428343baa5ef65ae888b6e32",
       "version_major": 2,
       "version_minor": 0
      },
      "text/plain": [
       "Current/Total:   0%|          | 0/30 [00:00<?, ?it/s]"
      ]
     },
     "metadata": {},
     "output_type": "display_data"
    },
    {
     "name": "stdout",
     "output_type": "stream",
     "text": [
      "************************\n",
      "- Accessing shop:  https://shopee.vn/essager.vn\n",
      "-- Getting data....\n",
      "-- Finished get data\n",
      "--- Access product pages\n",
      "************************\n"
     ]
    },
    {
     "data": {
      "application/vnd.jupyter.widget-view+json": {
       "model_id": "c3c7963b3c244ed2949d4d2d82ee7e44",
       "version_major": 2,
       "version_minor": 0
      },
      "text/plain": [
       "Current/Total:   0%|          | 0/30 [00:00<?, ?it/s]"
      ]
     },
     "metadata": {},
     "output_type": "display_data"
    },
    {
     "data": {
      "application/vnd.jupyter.widget-view+json": {
       "model_id": "88608c155cec4b0abba345b38cb32aad",
       "version_major": 2,
       "version_minor": 0
      },
      "text/plain": [
       "Current/Total:   0%|          | 0/30 [00:00<?, ?it/s]"
      ]
     },
     "metadata": {},
     "output_type": "display_data"
    },
    {
     "data": {
      "application/vnd.jupyter.widget-view+json": {
       "model_id": "5f2bf421ebc34ff1982665f3dd5f6f63",
       "version_major": 2,
       "version_minor": 0
      },
      "text/plain": [
       "Current/Total:   0%|          | 0/30 [00:00<?, ?it/s]"
      ]
     },
     "metadata": {},
     "output_type": "display_data"
    },
    {
     "data": {
      "application/vnd.jupyter.widget-view+json": {
       "model_id": "f3bb775972e44f84a5089f275be4a463",
       "version_major": 2,
       "version_minor": 0
      },
      "text/plain": [
       "Current/Total:   0%|          | 0/30 [00:00<?, ?it/s]"
      ]
     },
     "metadata": {},
     "output_type": "display_data"
    },
    {
     "name": "stdout",
     "output_type": "stream",
     "text": [
      "************************\n",
      "- Accessing shop:  https://shopee.vn/eucerin.officialstore\n",
      "-- Getting data....\n",
      "-- Finished get data\n",
      "--- Access product pages\n",
      "************************\n"
     ]
    },
    {
     "data": {
      "application/vnd.jupyter.widget-view+json": {
       "model_id": "84033966b61141718186db377624ca2f",
       "version_major": 2,
       "version_minor": 0
      },
      "text/plain": [
       "Current/Total:   0%|          | 0/30 [00:00<?, ?it/s]"
      ]
     },
     "metadata": {},
     "output_type": "display_data"
    },
    {
     "data": {
      "application/vnd.jupyter.widget-view+json": {
       "model_id": "b74f4c7f1d5346e295f27df8fbac6e08",
       "version_major": 2,
       "version_minor": 0
      },
      "text/plain": [
       "Current/Total:   0%|          | 0/30 [00:00<?, ?it/s]"
      ]
     },
     "metadata": {},
     "output_type": "display_data"
    },
    {
     "data": {
      "application/vnd.jupyter.widget-view+json": {
       "model_id": "3248aca5c1e54307b66c50e76c564ed7",
       "version_major": 2,
       "version_minor": 0
      },
      "text/plain": [
       "Current/Total:   0%|          | 0/15 [00:00<?, ?it/s]"
      ]
     },
     "metadata": {},
     "output_type": "display_data"
    },
    {
     "data": {
      "application/vnd.jupyter.widget-view+json": {
       "model_id": "ed4b916583044a399929fad27f1fefae",
       "version_major": 2,
       "version_minor": 0
      },
      "text/plain": [
       "Current/Total:   0%|          | 0/15 [00:00<?, ?it/s]"
      ]
     },
     "metadata": {},
     "output_type": "display_data"
    },
    {
     "name": "stdout",
     "output_type": "stream",
     "text": [
      "************************\n",
      "- Accessing shop:  https://shopee.vn/thoitrangeverest\n",
      "-- Getting data....\n",
      "-- Finished get data\n",
      "--- Access product pages\n",
      "************************\n"
     ]
    },
    {
     "data": {
      "application/vnd.jupyter.widget-view+json": {
       "model_id": "a832c747d26440eb8aaa34d42f3e146d",
       "version_major": 2,
       "version_minor": 0
      },
      "text/plain": [
       "Current/Total:   0%|          | 0/30 [00:00<?, ?it/s]"
      ]
     },
     "metadata": {},
     "output_type": "display_data"
    },
    {
     "data": {
      "application/vnd.jupyter.widget-view+json": {
       "model_id": "499301f474ff42d686514ff19abb9973",
       "version_major": 2,
       "version_minor": 0
      },
      "text/plain": [
       "Current/Total:   0%|          | 0/30 [00:00<?, ?it/s]"
      ]
     },
     "metadata": {},
     "output_type": "display_data"
    },
    {
     "data": {
      "application/vnd.jupyter.widget-view+json": {
       "model_id": "f6926ae36021462aa0f8f1269fc5b488",
       "version_major": 2,
       "version_minor": 0
      },
      "text/plain": [
       "Current/Total:   0%|          | 0/30 [00:00<?, ?it/s]"
      ]
     },
     "metadata": {},
     "output_type": "display_data"
    },
    {
     "data": {
      "application/vnd.jupyter.widget-view+json": {
       "model_id": "3d49aa9e6e0c44a2b8625bff6e0919b7",
       "version_major": 2,
       "version_minor": 0
      },
      "text/plain": [
       "Current/Total:   0%|          | 0/30 [00:00<?, ?it/s]"
      ]
     },
     "metadata": {},
     "output_type": "display_data"
    },
    {
     "name": "stdout",
     "output_type": "stream",
     "text": [
      "************************\n",
      "Finished crawling data!\n"
     ]
    }
   ],
   "source": [
    "\n",
    "headers = ['Order', 'Name', 'URL', \"Negative\",\"Positive\"]\n",
    "update_data = []\n",
    "\n",
    "count = 0\n",
    "negative = 0\n",
    "positive = 0\n",
    "total_cmt = 0\n",
    "tmp_neg = 0\n",
    "tmp_pos = 0\n",
    "\n",
    "for shop in tqdm(df,desc=\"Processing: \"):\n",
    "    product_list_url = []\n",
    "    count = 0\n",
    "    negative = 0\n",
    "    positive = 0\n",
    "    try:\n",
    "        my_url = shop[2]+\"?page=0&sortBy=sales\"\n",
    "        driver.get(my_url)\n",
    "        print('- Accessing shop: ', shop[2])\n",
    "        sleep(2)\n",
    "        \n",
    "    except:\n",
    "        print(\"***************************\")\n",
    "        print(\"Loading took too much time!\")\n",
    "        print(\"***************************\")\n",
    "        continue\n",
    "\n",
    "    print('-- Getting data....')\n",
    "\n",
    "    for i in range(4):\n",
    "        driver.execute_script('window.scrollTo(0, document.body.scrollHeight);') #scroll to the end of the page\n",
    "        sleep(0.3)\n",
    "        loop_page_source = BeautifulSoup(driver.page_source,\"html.parser\")\n",
    "        sleep(0.3)\n",
    "        old_page_source = driver.page_source\n",
    "\n",
    "        items = loop_page_source.find('div',class_=\"shop-search-result-view\").find_all('a',href=True)\n",
    "\n",
    "        product_list_url.append(items)\n",
    "        wait.until(EC.element_to_be_clickable((By.CLASS_NAME,\"shopee-icon-button--right\"))).click()\n",
    "        sleep(0.3)\n",
    "        new_page_source = driver.page_source\n",
    "        if new_page_source == old_page_source:\n",
    "            break\n",
    "        sleep(2)\n",
    "    print('-- Finished get data')\n",
    "\n",
    "    print(\"--- Access product pages\")\n",
    "    print(\"************************\")\n",
    "    for page in product_list_url:\n",
    "        for products in tqdm(page,desc=\"Current/Total\"):\n",
    "            \n",
    "            total_cmt = 0\n",
    "            tmp_neg = 0\n",
    "            tmp_pos = 0\n",
    "\n",
    "            count+=1\n",
    "            if(count==101):\n",
    "                break\n",
    "            product_url = url + products.get('href')\n",
    "            \n",
    "            driver.get(product_url)\n",
    "            sleep(2)\n",
    "\n",
    "            while(1):\n",
    "                driver.execute_script('window.scrollTo(0, document.body.scrollHeight);') #scroll to the end of the page\n",
    "                sleep(0.1)\n",
    "                product_detail_page_source = BeautifulSoup(driver.page_source,\"html.parser\")\n",
    "                sleep(0.2)\n",
    "                old_page_source = driver.page_source\n",
    "\n",
    "                comments = product_detail_page_source.find_all('div', class_=\"Em3Qhp\") # Get comment\n",
    "                \n",
    "                if(len(comments)==0): # Section have no comments\n",
    "                    if total_cmt==0: # First comment section has no comment\n",
    "                        sleep(2)\n",
    "                    break\n",
    "\n",
    "                for cmt in comments:\n",
    "                    my_text = cmt.text.strip()\n",
    "                    if(sentiment(my_text)==\"negative\"):\n",
    "                        tmp_neg+=1\n",
    "                    else:\n",
    "                        tmp_pos+=1\n",
    "\n",
    "                total_cmt = tmp_neg+tmp_pos\n",
    "\n",
    "                try:\n",
    "                    wait.until(EC.element_to_be_clickable((By.CLASS_NAME,\"shopee-icon-button--right\"))).click()\n",
    "                except TimeoutException:\n",
    "                    continue\n",
    "                sleep(0.3)\n",
    "                new_page_source = driver.page_source\n",
    "                if new_page_source == old_page_source or total_cmt>=200:\n",
    "                    negative+= tmp_neg\n",
    "                    positive+= tmp_pos\n",
    "                    break\n",
    "    update_data.append({headers[0]:shop[0],headers[1]:shop[1],headers[2]:shop[2],headers[3]:negative,headers[4]:positive})\n",
    "    print(\"************************\")\n",
    "\n",
    "print(\"Finished crawling data!\")\n"
   ]
  },
  {
   "cell_type": "code",
   "execution_count": 8,
   "metadata": {},
   "outputs": [
    {
     "name": "stdout",
     "output_type": "stream",
     "text": [
      "Mission Completed!\n"
     ]
    }
   ],
   "source": [
    "with open('ShopeeMallSentiment.csv', 'w',  newline = '') as file_output:\n",
    "    \n",
    "    writer = csv.DictWriter(file_output, delimiter=',', lineterminator='\\n',fieldnames=headers)\n",
    "    writer.writeheader()\n",
    "    for shop in update_data:\n",
    "        writer.writerow(shop)\n",
    "\n",
    "print('Mission Completed!')"
   ]
  },
  {
   "cell_type": "code",
   "execution_count": null,
   "metadata": {},
   "outputs": [],
   "source": []
  }
 ],
 "metadata": {
  "kernelspec": {
   "display_name": "Python 3.10.4 64-bit",
   "language": "python",
   "name": "python3"
  },
  "language_info": {
   "codemirror_mode": {
    "name": "ipython",
    "version": 3
   },
   "file_extension": ".py",
   "mimetype": "text/x-python",
   "name": "python",
   "nbconvert_exporter": "python",
   "pygments_lexer": "ipython3",
   "version": "3.10.4"
  },
  "orig_nbformat": 4,
  "vscode": {
   "interpreter": {
    "hash": "31f2aee4e71d21fbe5cf8b01ff0e069b9275f58929596ceb00d14d90e3e16cd6"
   }
  }
 },
 "nbformat": 4,
 "nbformat_minor": 2
}
