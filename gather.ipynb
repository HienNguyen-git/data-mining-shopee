{
 "cells": [
  {
   "cell_type": "code",
   "execution_count": 2,
   "metadata": {},
   "outputs": [],
   "source": [
    "import pandas as pd\n",
    "import numpy as np"
   ]
  },
  {
   "cell_type": "code",
   "execution_count": 3,
   "metadata": {},
   "outputs": [],
   "source": [
    "raw = pd.read_csv(\"ShopeeMall.csv\")\n",
    "sales = pd.read_csv(\"ShopeeMallSales.csv\")\n",
    "sentiment = pd.read_csv(\"ShopeeMallSentiment.csv\")\n",
    "extra_att = pd.read_csv(\"ShopeeMall5.csv\")\n",
    "shop_update = pd.read_csv(\"ShopeeMallUpdate.csv\")"
   ]
  },
  {
   "cell_type": "code",
   "execution_count": 4,
   "metadata": {},
   "outputs": [],
   "source": [
    "raw[\"Sales\"] = sales[\"Sales\"]\n",
    "raw[\"Negative\"] = sentiment[\"Negative\"]\n",
    "raw[\"Positive\"] = sentiment[\"Positive\"]\n",
    "raw[\"Category\"] = shop_update[\"Type\"]\n",
    "raw[\"Rating\"] = extra_att[\"Rating\"]\n",
    "raw[\"Chat Response (%)\"] = extra_att[\"Chat Response (%)\"]\n",
    "raw[\"Follower\"] = extra_att[\"Follower\"]\n",
    "raw[\"Quantity Discount\"] = shop_update[\"Quantity Discount\"]\n",
    "raw[\"Quantity Type Product\"] = shop_update[\"Quantity Type Product\"]\n",
    "raw[\"Year Join\"] = shop_update[\"Year Join\"]\n",
    "\n",
    "raw.to_csv(\"ShopeeMall.csv\",index = False, encoding='utf-8')\n"
   ]
  }
 ],
 "metadata": {
  "kernelspec": {
   "display_name": "Python 3.10.4 64-bit",
   "language": "python",
   "name": "python3"
  },
  "language_info": {
   "codemirror_mode": {
    "name": "ipython",
    "version": 3
   },
   "file_extension": ".py",
   "mimetype": "text/x-python",
   "name": "python",
   "nbconvert_exporter": "python",
   "pygments_lexer": "ipython3",
   "version": "3.10.4"
  },
  "orig_nbformat": 4,
  "vscode": {
   "interpreter": {
    "hash": "31f2aee4e71d21fbe5cf8b01ff0e069b9275f58929596ceb00d14d90e3e16cd6"
   }
  }
 },
 "nbformat": 4,
 "nbformat_minor": 2
}
