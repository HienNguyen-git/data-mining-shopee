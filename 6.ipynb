{
 "cells": [
  {
   "cell_type": "code",
   "execution_count": 1,
   "metadata": {},
   "outputs": [
    {
     "name": "stdout",
     "output_type": "stream",
     "text": [
      "- Finish importing packages\n"
     ]
    }
   ],
   "source": [
    "# Import libraries and packages for the project \n",
    "\n",
    "from selenium import webdriver\n",
    "from selenium.webdriver.common.keys import Keys\n",
    "from selenium.webdriver.support.ui import WebDriverWait\n",
    "from selenium.webdriver.support import expected_conditions as EC\n",
    "from selenium.webdriver.chrome.service import Service\n",
    "from selenium.webdriver.chrome.options import Options\n",
    "from selenium.webdriver.common.by import By\n",
    "from selenium.common.exceptions import TimeoutException\n",
    "from bs4 import BeautifulSoup\n",
    "from webdriver_manager.chrome import ChromeDriverManager\n",
    "import csv\n",
    "from time import sleep\n",
    "import random\n",
    "import pandas as pd\n",
    "import numpy as np\n",
    "import math\n",
    "from tqdm.notebook import tqdm #process bar\n",
    "from underthesea import sentiment #check comment + -\n",
    "\n",
    "print('- Finish importing packages')"
   ]
  },
  {
   "cell_type": "code",
   "execution_count": 16,
   "metadata": {},
   "outputs": [],
   "source": [
    "shopee_url = 'https://shopee.vn'"
   ]
  },
  {
   "cell_type": "code",
   "execution_count": 20,
   "metadata": {},
   "outputs": [
    {
     "name": "stderr",
     "output_type": "stream",
     "text": [
      "C:\\Users\\nchda\\AppData\\Local\\Temp\\ipykernel_12656\\4264837988.py:3: DeprecationWarning: executable_path has been deprecated, please pass in a Service object\n",
      "  driver = webdriver.Chrome(chrome_options = options, executable_path=r'C:\\chromedriver_win32\\chromedriver.exe')\n",
      "C:\\Users\\nchda\\AppData\\Local\\Temp\\ipykernel_12656\\4264837988.py:3: DeprecationWarning: use options instead of chrome_options\n",
      "  driver = webdriver.Chrome(chrome_options = options, executable_path=r'C:\\chromedriver_win32\\chromedriver.exe')\n"
     ]
    }
   ],
   "source": [
    "service = Service(executable_path=ChromeDriverManager().install())\n",
    "driver = webdriver.Chrome(service=service)\n",
    "wait = WebDriverWait(driver,20)\n",
    "\n",
    "# Login to shopee account\n",
    "# brands_url = \"https://shopee.vn/mall/brands/\"\n",
    "login_url = \"https://shopee.vn/buyer/login/qr?next=https%3A%2F%2Fshopee.vn%2Fuser%2Fpurchase%2F\"\n",
    "\n",
    "driver.get(login_url)\n",
    "sleep(30)\n"
   ]
  },
  {
   "cell_type": "code",
   "execution_count": 28,
   "metadata": {},
   "outputs": [
    {
     "name": "stdout",
     "output_type": "stream",
     "text": [
      "Acess shop:Abbott\n",
      "Acess shop:Adidas Official Store\n",
      "Acess shop:Alobuy\n",
      "Acess shop:Amak\n",
      "Acess shop:An Nguyên\n",
      "Acess shop:Anbert Manga\n",
      "Acess shop:Anbert Manga Shop \n",
      "Acess shop:Anessa\n",
      "Acess shop:Anker\n",
      "Acess shop:Anlene\n",
      "Acess shop:Babyhop\n",
      "Acess shop:Balo 4.0\n",
      "Acess shop:Bam Kitchen\n",
      "Acess shop:Bánh Mì\n",
      "Acess shop:Banxeer\n",
      "Acess shop:Bảo Ngọc Jewelry\n",
      "Acess shop:Baseus Official Shop\n",
      "Acess shop:Basike Official Store \n",
      "Acess shop:Batino\n",
      "Acess shop:Bbia\n",
      "Acess shop:CAPMAN\n",
      "Acess shop:CChat Clothes\n",
      "Acess shop:Cenota\n",
      "Acess shop:Cerelac\n",
      "Acess shop:Chaang\n",
      "Acess shop:Choobe\n",
      "Acess shop:Cindy Perfume Vietnam\n",
      "Acess shop:CkeyiN\n",
      "Acess shop:Clean & Clear\n",
      "Acess shop:CNT\n",
      "Acess shop:Dabo\n",
      "Acess shop:DAVIES\n",
      "Acess shop:Decathlon\n",
      "Acess shop:Deli\n",
      "Acess shop:DHC\n",
      "Acess shop:Dincox Official Store\n",
      "Acess shop:Dirty Coins\n",
      "Acess shop:Dk Harvest Official Store\n",
      "Acess shop:Đồ dùng làm vườn Green Home\n",
      "Acess shop:Dr. Saffron\n",
      "Acess shop:Earldom\n",
      "Acess shop:EL Mart\n",
      "Acess shop:Eleanor Accessories\n",
      "Acess shop:Emmi\n",
      "Acess shop:Enchanteur\n",
      "Acess shop:Enfa\n",
      "Acess shop:Erosska\n",
      "Acess shop:Essager\n",
      "Acess shop:Eucerin\n",
      "Acess shop:Everest\n",
      "Acess shop:F8888\n",
      "Acess shop:Fahasa\n",
      "Acess shop:Famapro Official Store\n",
      "Acess shop:Farmasi\n",
      "Acess shop:Fasvin\n",
      "Acess shop:Feaer Denim\n",
      "Acess shop:Finetoo Official Store \n",
      "Acess shop:Fortune Mouse\n",
      "Acess shop:Francia Beauty\n",
      "Acess shop:gau194_official\n",
      "Acess shop:Hapas Official Store\n",
      "Acess shop:Haras\n",
      "Acess shop:HDY\n",
      "Acess shop:Head & Shoulders\n",
      "Acess shop:Himalaya\n",
      "Acess shop:HIPP\n",
      "Acess shop:Hisexy.vn\n",
      "Acess shop:Hobby Home Decor\n",
      "Acess shop:Hoco Official Store\n",
      "Acess shop:Hồng Ánh\n",
      "Acess shop:iBasic\n",
      "Acess shop:Imagic\n",
      "Acess shop:Innisfree\n",
      "Acess shop:Inochi\n",
      "Acess shop:IPM Việt Nam\n",
      "Acess shop:Ivy Moda\n",
      "Acess shop:Jeliva\n",
      "Acess shop:Johnson & Johnson\n",
      "Acess shop:Julyhouse\n",
      "Acess shop:Juno Official Store\n",
      "Acess shop:Kamong Official Store\n",
      "Acess shop:Kamong Official\n",
      "Acess shop:Kim Đồng\n",
      "Acess shop:Kimuse\n",
      "Acess shop:King Beauty\n",
      "Acess shop:Kinh Đô Official Store\n",
      "Acess shop:Kitekat\n",
      "Acess shop:Kobi\n",
      "Acess shop:Kojiba\n",
      "Acess shop:Krystal\n",
      "Acess shop:\"lovito.vn\t\"\n",
      "Acess shop:La Roche-Posay\n",
      "Acess shop:Labelle Vie\n",
      "Acess shop:Lados\n",
      "Acess shop:Laikou Official Store\n",
      "Acess shop:Lamuseland\n",
      "Acess shop:Laneige\n",
      "Acess shop:Lata\n",
      "Acess shop:Latashop\n",
      "Acess shop:Laza\n",
      "[{'Order': 1, 'Name': 'Abbott', 'URL': 'https://shopee.vn/abbottofficial', 'Type': 'Mẹ & Bé', 'Quantity Discount': 0, 'Quantity Type Product': 4, 'Year Join': '3'}, {'Order': 2, 'Name': 'Adidas Official Store', 'URL': 'https://shopee.vn/adidasofficialstore', 'Type': 'Thể Thao & Du Lịch', 'Quantity Discount': 2, 'Quantity Type Product': 19, 'Year Join': '4'}, {'Order': 3, 'Name': 'Alobuy', 'URL': 'https://shopee.vn/1khovn_bach_hoa_tien_loi', 'Type': 'Nhà Sách Online', 'Quantity Discount': 0, 'Quantity Type Product': 10, 'Year Join': '6'}, {'Order': 4, 'Name': 'Amak', 'URL': 'https://shopee.vn/nhasachamak', 'Type': 'Nhà Sách Online', 'Quantity Discount': 0, 'Quantity Type Product': 9, 'Year Join': '5'}, {'Order': 5, 'Name': 'An Nguyên', 'URL': 'https://shopee.vn/sachhayquanhieu', 'Type': 'Nhà Sách Online', 'Quantity Discount': 0, 'Quantity Type Product': 6, 'Year Join': '4'}, {'Order': 6, 'Name': 'Anbert Manga', 'URL': 'https://shopee.vn/anbertmangashop', 'Type': 'Nhà Sách Online', 'Quantity Discount': 0, 'Quantity Type Product': 8, 'Year Join': '6'}, {'Order': 7, 'Name': 'Anbert Manga Shop ', 'URL': 'https://shopee.vn/anbertmangashop3103', 'Type': 'Nhà Sách Online', 'Quantity Discount': 0, 'Quantity Type Product': 21, 'Year Join': 1}, {'Order': 8, 'Name': 'Anessa', 'URL': 'https://shopee.vn/anessaofficialstore', 'Type': 'Sắc Đẹp', 'Quantity Discount': 0, 'Quantity Type Product': 6, 'Year Join': '4'}, {'Order': 9, 'Name': 'Anker', 'URL': 'https://shopee.vn/ankervn', 'Type': 'Điện Thoại & Phụ Kiện', 'Quantity Discount': 0, 'Quantity Type Product': 10, 'Year Join': '5'}, {'Order': 10, 'Name': 'Anlene', 'URL': 'https://shopee.vn/anlene_officialstore', 'Type': 'Bách Hóa Online', 'Quantity Discount': 0, 'Quantity Type Product': 11, 'Year Join': '3'}, {'Order': 11, 'Name': 'Babyhop', 'URL': 'https://shopee.vn/babyhop_store', 'Type': 'Đồ Chơi', 'Quantity Discount': 1, 'Quantity Type Product': 12, 'Year Join': '5'}, {'Order': 12, 'Name': 'Balo 4.0', 'URL': 'https://shopee.vn/balocongnghe', 'Type': 'Túi Ví Nữ', 'Quantity Discount': 0, 'Quantity Type Product': 12, 'Year Join': '4'}, {'Order': 13, 'Name': 'Bam Kitchen', 'URL': 'https://shopee.vn/bambamstore274', 'Type': 'Nhà Cửa & Đời Sống', 'Quantity Discount': 10, 'Quantity Type Product': 11, 'Year Join': '4'}, {'Order': 14, 'Name': 'Bánh Mì', 'URL': 'https://shopee.vn/hieusachbanhmi', 'Type': 'Nhà Sách Online', 'Quantity Discount': 0, 'Quantity Type Product': 13, 'Year Join': '5'}, {'Order': 15, 'Name': 'Banxeer', 'URL': 'https://shopee.vn/banxeer.vn', 'Type': 'Sắc Đẹp', 'Quantity Discount': 8, 'Quantity Type Product': 9, 'Year Join': 2}, {'Order': 16, 'Name': 'Bảo Ngọc Jewelry', 'URL': 'https://shopee.vn/baongocjewelry', 'Type': 'Phụ Kiện & Trang Sức Nữ', 'Quantity Discount': 11, 'Quantity Type Product': 14, 'Year Join': '6'}, {'Order': 17, 'Name': 'Baseus Official Shop', 'URL': 'https://shopee.vn/baseus.official.mall.vn', 'Type': 'Thiết Bị Điện Tử', 'Quantity Discount': 1, 'Quantity Type Product': 20, 'Year Join': '3'}, {'Order': 18, 'Name': 'Basike Official Store ', 'URL': 'https://shopee.vn/basike.vn', 'Type': 'Điện Thoại & Phụ Kiện', 'Quantity Discount': 5, 'Quantity Type Product': 12, 'Year Join': 1}, {'Order': 19, 'Name': 'Batino', 'URL': 'https://shopee.vn/chovietbtw', 'Type': 'Thời Trang Nam', 'Quantity Discount': 0, 'Quantity Type Product': 7, 'Year Join': '5'}, {'Order': 20, 'Name': 'Bbia', 'URL': 'https://shopee.vn/bbia_officialstore', 'Type': 'Sắc Đẹp', 'Quantity Discount': 7, 'Quantity Type Product': 16, 'Year Join': '6'}, {'Order': 21, 'Name': 'CAPMAN', 'URL': 'https://shopee.vn/cap.man', 'Type': 'Thời Trang Nam', 'Quantity Discount': 5, 'Quantity Type Product': 11, 'Year Join': 1}, {'Order': 22, 'Name': 'CChat Clothes', 'URL': 'https://shopee.vn/cchatclotheshn', 'Type': 'Thời Trang Nữ', 'Quantity Discount': 8, 'Quantity Type Product': 8, 'Year Join': '4'}, {'Order': 23, 'Name': 'Cenota', 'URL': 'https://shopee.vn/cenotaofficial', 'Type': 'Sắc Đẹp', 'Quantity Discount': 3, 'Quantity Type Product': 17, 'Year Join': 2}, {'Order': 24, 'Name': 'Cerelac', 'URL': 'https://shopee.vn/nestlevnn', 'Type': 'Bách Hóa Online', 'Quantity Discount': 0, 'Quantity Type Product': 17, 'Year Join': '4'}, {'Order': 25, 'Name': 'Chaang', 'URL': 'https://shopee.vn/chaangvietnam', 'Type': 'Thời Trang Trẻ Em', 'Quantity Discount': 0, 'Quantity Type Product': 9, 'Year Join': '5'}, {'Order': 26, 'Name': 'Choobe', 'URL': 'https://shopee.vn/choobe.official', 'Type': 'Thời Trang Nữ', 'Quantity Discount': 13, 'Quantity Type Product': 10, 'Year Join': '4'}, {'Order': 27, 'Name': 'Cindy Perfume Vietnam', 'URL': 'https://shopee.vn/scc_officialstore', 'Type': 'Sắc Đẹp', 'Quantity Discount': 1, 'Quantity Type Product': 12, 'Year Join': '5'}, {'Order': 28, 'Name': 'CkeyiN', 'URL': 'https://shopee.vn/ckeyin.vn', 'Type': 'Sắc Đẹp', 'Quantity Discount': 10, 'Quantity Type Product': 6, 'Year Join': '4'}, {'Order': 29, 'Name': 'Clean & Clear', 'URL': 'https://shopee.vn/johnson_johnson_official', 'Type': 'Sắc Đẹp', 'Quantity Discount': 0, 'Quantity Type Product': 11, 'Year Join': '4'}, {'Order': 30, 'Name': 'CNT', 'URL': 'https://shopee.vn/tuixachcnt', 'Type': 'Balo & Túi Ví Nam', 'Quantity Discount': 1, 'Quantity Type Product': 15, 'Year Join': '7'}, {'Order': 31, 'Name': 'Dabo', 'URL': 'https://shopee.vn/thovaushop_officialstore', 'Type': 'Sắc Đẹp', 'Quantity Discount': 0, 'Quantity Type Product': 18, 'Year Join': '5'}, {'Order': 32, 'Name': 'DAVIES', 'URL': 'https://shopee.vn/davies.vn', 'Type': 'Thời Trang Nữ', 'Quantity Discount': 0, 'Quantity Type Product': 13, 'Year Join': '4'}, {'Order': 33, 'Name': 'Decathlon', 'URL': 'https://shopee.vn/decathlon_vietnam', 'Type': 'Túi Ví Nữ', 'Quantity Discount': 5, 'Quantity Type Product': 8, 'Year Join': 2}, {'Order': 34, 'Name': 'Deli', 'URL': 'https://shopee.vn/delivietnam', 'Type': 'Nhà Sách Online', 'Quantity Discount': 4, 'Quantity Type Product': 23, 'Year Join': '3'}, {'Order': 35, 'Name': 'DHC', 'URL': 'https://shopee.vn/dhc_officialstore', 'Type': 'Sức Khỏe', 'Quantity Discount': 5, 'Quantity Type Product': 15, 'Year Join': '5'}, {'Order': 36, 'Name': 'Dincox Official Store', 'URL': 'https://shopee.vn/dincox_shoes', 'Type': 'Giày Dép Nam', 'Quantity Discount': 5, 'Quantity Type Product': 5, 'Year Join': '3'}, {'Order': 37, 'Name': 'Dirty Coins', 'URL': 'https://shopee.vn/dirtycoins', 'Type': 'Phụ Kiện & Trang Sức Nữ', 'Quantity Discount': 12, 'Quantity Type Product': 11, 'Year Join': '4'}, {'Order': 38, 'Name': 'Dk Harvest Official Store', 'URL': 'https://shopee.vn/dk_harvest', 'Type': 'Bách Hóa Online', 'Quantity Discount': 1, 'Quantity Type Product': 9, 'Year Join': 2}, {'Order': 39, 'Name': 'Đồ dùng làm vườn Green Home', 'URL': 'https://shopee.vn/garden_tools_greenhome', 'Type': 'Nhà Cửa & Đời Sống', 'Quantity Discount': 5, 'Quantity Type Product': 27, 'Year Join': '5'}, {'Order': 40, 'Name': 'Dr. Saffron', 'URL': 'https://shopee.vn/dr.saffron_official_store', 'Type': 'Bách Hóa Online', 'Quantity Discount': 50, 'Quantity Type Product': 15, 'Year Join': 1}, {'Order': 41, 'Name': 'Earldom', 'URL': 'https://shopee.vn/earldom.store', 'Type': 'Thiết Bị Điện Tử', 'Quantity Discount': 2, 'Quantity Type Product': 15, 'Year Join': 1}, {'Order': 42, 'Name': 'EL Mart', 'URL': 'https://shopee.vn/elmartvn', 'Type': 'Thiết Bị Điện Tử', 'Quantity Discount': 0, 'Quantity Type Product': 1, 'Year Join': '4'}, {'Order': 43, 'Name': 'Eleanor Accessories', 'URL': 'https://shopee.vn/eleanoraccessories', 'Type': 'Sắc Đẹp', 'Quantity Discount': 9, 'Quantity Type Product': 16, 'Year Join': 1}, {'Order': 44, 'Name': 'Emmi', 'URL': 'https://shopee.vn/emmibedding', 'Type': 'Nhà Cửa & Đời Sống', 'Quantity Discount': 1, 'Quantity Type Product': 10, 'Year Join': '6'}, {'Order': 45, 'Name': 'Enchanteur', 'URL': 'https://shopee.vn/enchanteur_vietnam', 'Type': 'Sắc Đẹp', 'Quantity Discount': 2, 'Quantity Type Product': 20, 'Year Join': '3'}, {'Order': 46, 'Name': 'Enfa', 'URL': 'https://shopee.vn/enfaofficialstore', 'Type': 'Mẹ & Bé', 'Quantity Discount': 0, 'Quantity Type Product': 17, 'Year Join': '4'}, {'Order': 47, 'Name': 'Erosska', 'URL': 'https://shopee.vn/erosska', 'Type': 'Giày Dép Nam', 'Quantity Discount': 3, 'Quantity Type Product': 12, 'Year Join': '5'}, {'Order': 48, 'Name': 'Essager', 'URL': 'https://shopee.vn/essager.vn', 'Type': 'Điện Thoại & Phụ Kiện', 'Quantity Discount': 4, 'Quantity Type Product': 11, 'Year Join': 2}, {'Order': 49, 'Name': 'Eucerin', 'URL': 'https://shopee.vn/eucerin.officialstore', 'Type': 'Sắc Đẹp', 'Quantity Discount': 0, 'Quantity Type Product': 11, 'Year Join': '4'}, {'Order': 50, 'Name': 'Everest', 'URL': 'https://shopee.vn/thoitrangeverest', 'Type': 'Thời Trang Nam', 'Quantity Discount': 0, 'Quantity Type Product': 19, 'Year Join': '5'}, {'Order': 51, 'Name': 'F8888', 'URL': 'https://shopee.vn/hangcongty', 'Type': 'Thời Trang Nam', 'Quantity Discount': 3, 'Quantity Type Product': 8, 'Year Join': '5'}, {'Order': 52, 'Name': 'Fahasa', 'URL': 'https://shopee.vn/fahasa.com', 'Type': 'Nhà Sách Online', 'Quantity Discount': 5, 'Quantity Type Product': 16, 'Year Join': '3'}, {'Order': 53, 'Name': 'Famapro Official Store', 'URL': 'https://shopee.vn/khautrangytefamapro', 'Type': 'Sức Khỏe', 'Quantity Discount': 18, 'Quantity Type Product': 6, 'Year Join': 1}, {'Order': 54, 'Name': 'Farmasi', 'URL': 'https://shopee.vn/kissnewyork_officialstore', 'Type': 'Sắc Đẹp', 'Quantity Discount': 0, 'Quantity Type Product': 16, 'Year Join': '5'}, {'Order': 55, 'Name': 'Fasvin', 'URL': 'https://shopee.vn/fasvin', 'Type': 'Thời Trang Nam', 'Quantity Discount': 0, 'Quantity Type Product': 20, 'Year Join': 2}, {'Order': 56, 'Name': 'Feaer Denim', 'URL': 'https://shopee.vn/feaer_store', 'Type': 'Thời Trang Nam', 'Quantity Discount': 6, 'Quantity Type Product': 5, 'Year Join': 2}, {'Order': 57, 'Name': 'Finetoo Official Store ', 'URL': 'https://shopee.vn/finetoo.vn', 'Type': 'Thời Trang Nữ', 'Quantity Discount': 2, 'Quantity Type Product': 7, 'Year Join': 2}, {'Order': 58, 'Name': 'Fortune Mouse', 'URL': 'https://shopee.vn/fortunemouseofficial', 'Type': 'Balo & Túi Ví Nam', 'Quantity Discount': 3, 'Quantity Type Product': 8, 'Year Join': '3'}, {'Order': 59, 'Name': 'Francia Beauty', 'URL': 'https://shopee.vn/franciabeauty_officialstore', 'Type': 'Sắc Đẹp', 'Quantity Discount': 4, 'Quantity Type Product': 9, 'Year Join': '4'}, {'Order': 60, 'Name': 'gau194_official', 'URL': 'https://shopee.vn/gau194_official', 'Type': 'Thời Trang Nam', 'Quantity Discount': 6, 'Quantity Type Product': 24, 'Year Join': '4'}, {'Order': 61, 'Name': 'Hapas Official Store', 'URL': 'https://shopee.vn/hapas.official', 'Type': 'Túi Ví Nữ', 'Quantity Discount': 6, 'Quantity Type Product': 9, 'Year Join': 2}, {'Order': 62, 'Name': 'Haras', 'URL': 'https://shopee.vn/harashop.vn', 'Type': 'Thể Thao & Du Lịch', 'Quantity Discount': 0, 'Quantity Type Product': 4, 'Year Join': '6'}, {'Order': 63, 'Name': 'HDY', 'URL': 'https://shopee.vn/toymall1.vn', 'Type': 'Đồ Chơi', 'Quantity Discount': 7, 'Quantity Type Product': 57, 'Year Join': '4'}, {'Order': 64, 'Name': 'Head & Shoulders', 'URL': 'https://shopee.vn/pg_officialstorevn', 'Type': 'Sắc Đẹp', 'Quantity Discount': 0, 'Quantity Type Product': 14, 'Year Join': '4'}, {'Order': 65, 'Name': 'Himalaya', 'URL': 'https://shopee.vn/himalayaherbalsvn', 'Type': 'Sắc Đẹp', 'Quantity Discount': 6, 'Quantity Type Product': 8, 'Year Join': '4'}, {'Order': 66, 'Name': 'HIPP', 'URL': 'https://shopee.vn/hippofficialstore', 'Type': 'Mẹ & Bé', 'Quantity Discount': 3, 'Quantity Type Product': 10, 'Year Join': '4'}, {'Order': 67, 'Name': 'Hisexy.vn', 'URL': 'https://shopee.vn/hisexy.vn', 'Type': 'Thời Trang Nữ', 'Quantity Discount': 3, 'Quantity Type Product': 8, 'Year Join': 2}, {'Order': 68, 'Name': 'Hobby Home Decor', 'URL': 'https://shopee.vn/vnhobbyshop', 'Type': 'Nhà Cửa & Đời Sống', 'Quantity Discount': 4, 'Quantity Type Product': 8, 'Year Join': '5'}, {'Order': 69, 'Name': 'Hoco Official Store', 'URL': 'https://shopee.vn/hoco_flagship_official_store', 'Type': 'Điện Thoại & Phụ Kiện', 'Quantity Discount': 4, 'Quantity Type Product': 12, 'Year Join': 2}, {'Order': 70, 'Name': 'Hồng Ánh', 'URL': 'https://shopee.vn/gepo.vn', 'Type': 'Thể Thao & Du Lịch', 'Quantity Discount': 0, 'Quantity Type Product': 15, 'Year Join': 2}, {'Order': 71, 'Name': 'iBasic', 'URL': 'https://shopee.vn/ibasicvietnam', 'Type': 'Thời Trang Nữ', 'Quantity Discount': 7, 'Quantity Type Product': 37, 'Year Join': '5'}, {'Order': 72, 'Name': 'Imagic', 'URL': 'https://shopee.vn/imagic_official.vn', 'Type': 'Sắc Đẹp', 'Quantity Discount': 8, 'Quantity Type Product': 15, 'Year Join': 2}, {'Order': 73, 'Name': 'Innisfree', 'URL': 'https://shopee.vn/innisfreevietnam_officialstore', 'Type': 'Sắc Đẹp', 'Quantity Discount': 6, 'Quantity Type Product': 19, 'Year Join': '3'}, {'Order': 74, 'Name': 'Inochi', 'URL': 'https://shopee.vn/inochivietnam', 'Type': 'Nhà Cửa & Đời Sống', 'Quantity Discount': 3, 'Quantity Type Product': 13, 'Year Join': 1}, {'Order': 75, 'Name': 'IPM Việt Nam', 'URL': 'https://shopee.vn/ipm_vn', 'Type': 'Nhà Sách Online', 'Quantity Discount': 0, 'Quantity Type Product': 11, 'Year Join': 1}, {'Order': 76, 'Name': 'Ivy Moda', 'URL': 'https://shopee.vn/ivymoda', 'Type': 'Thời Trang Nữ', 'Quantity Discount': 5, 'Quantity Type Product': 21, 'Year Join': 2}, {'Order': 77, 'Name': 'Jeliva', 'URL': 'https://shopee.vn/jeliva.vn', 'Type': 'Sắc Đẹp', 'Quantity Discount': 2, 'Quantity Type Product': 10, 'Year Join': 1}, {'Order': 78, 'Name': 'Johnson & Johnson', 'URL': 'https://shopee.vn/johnson_johnson_official', 'Type': 'Sắc Đẹp', 'Quantity Discount': 0, 'Quantity Type Product': 11, 'Year Join': '4'}, {'Order': 79, 'Name': 'Julyhouse', 'URL': 'https://shopee.vn/julyhouse_essoil', 'Type': 'Giặt Giũ & Chăm Sóc Nhà Cửa', 'Quantity Discount': 2, 'Quantity Type Product': 10, 'Year Join': '4'}, {'Order': 80, 'Name': 'Juno Official Store', 'URL': 'https://shopee.vn/juno.officialstore', 'Type': 'Giày Dép Nam', 'Quantity Discount': 3, 'Quantity Type Product': 18, 'Year Join': '4'}, {'Order': 81, 'Name': 'Kamong Official Store', 'URL': 'https://shopee.vn/kamongclothing', 'Type': 'Thời Trang Nữ', 'Quantity Discount': 2, 'Quantity Type Product': 12, 'Year Join': 2}, {'Order': 82, 'Name': 'Kamong Official', 'URL': 'https://shopee.vn/kamongclothing', 'Type': 'Thời Trang Nữ', 'Quantity Discount': 2, 'Quantity Type Product': 12, 'Year Join': 2}, {'Order': 83, 'Name': 'Kim Đồng', 'URL': 'https://shopee.vn/nxbkimdong', 'Type': 'Nhà Sách Online', 'Quantity Discount': 0, 'Quantity Type Product': 13, 'Year Join': 2}, {'Order': 84, 'Name': 'Kimuse', 'URL': 'https://shopee.vn/kimusecosmetics.vn', 'Type': 'Sắc Đẹp', 'Quantity Discount': 2, 'Quantity Type Product': 12, 'Year Join': 2}, {'Order': 85, 'Name': 'King Beauty', 'URL': 'https://shopee.vn/kingbeauty_officialstore', 'Type': 'Sắc Đẹp', 'Quantity Discount': 3, 'Quantity Type Product': 5, 'Year Join': 2}, {'Order': 86, 'Name': 'Kinh Đô Official Store', 'URL': 'https://shopee.vn/kinhdo_official_store', 'Type': 'Bách Hóa Online', 'Quantity Discount': 0, 'Quantity Type Product': 10, 'Year Join': '3'}, {'Order': 87, 'Name': 'Kitekat', 'URL': 'https://shopee.vn/mars_petcare', 'Type': 'Chăm Sóc Thú Cưng', 'Quantity Discount': 0, 'Quantity Type Product': 12, 'Year Join': '4'}, {'Order': 88, 'Name': 'Kobi', 'URL': 'https://shopee.vn/kobimart', 'Type': 'Nhà Cửa & Đời Sống', 'Quantity Discount': 3, 'Quantity Type Product': 10, 'Year Join': '3'}, {'Order': 89, 'Name': 'Kojiba', 'URL': 'https://shopee.vn/kojibavn', 'Type': 'Thời Trang Nam', 'Quantity Discount': 5, 'Quantity Type Product': 8, 'Year Join': '5'}, {'Order': 90, 'Name': 'Krystal', 'URL': 'https://shopee.vn/krystal.vn', 'Type': 'Thời Trang Nữ', 'Quantity Discount': 4, 'Quantity Type Product': 9, 'Year Join': 2}, {'Order': 91, 'Name': '\"lovito.vn\\t\"', 'URL': 'https://shopee.vn/lovito.vn', 'Type': 'Thời Trang Nữ', 'Quantity Discount': 3, 'Quantity Type Product': 21, 'Year Join': 1}, {'Order': 92, 'Name': 'La Roche-Posay', 'URL': 'https://shopee.vn/larocheposay_officialstore', 'Type': 'Sắc Đẹp', 'Quantity Discount': 2, 'Quantity Type Product': 6, 'Year Join': '5'}, {'Order': 93, 'Name': 'Labelle Vie', 'URL': 'https://shopee.vn/labellevie.vn', 'Type': 'Sắc Đẹp', 'Quantity Discount': 5, 'Quantity Type Product': 7, 'Year Join': '3'}, {'Order': 94, 'Name': 'Lados', 'URL': 'https://shopee.vn/nguonhangthoitrang', 'Type': 'Thời Trang Nam', 'Quantity Discount': 9, 'Quantity Type Product': 11, 'Year Join': '5'}, {'Order': 95, 'Name': 'Laikou Official Store', 'URL': 'https://shopee.vn/laikou.vn', 'Type': 'Sắc Đẹp', 'Quantity Discount': 9, 'Quantity Type Product': 18, 'Year Join': 2}, {'Order': 96, 'Name': 'Lamuseland', 'URL': 'https://shopee.vn/lamuseland.vn', 'Type': 'Sắc Đẹp', 'Quantity Discount': 0, 'Quantity Type Product': 13, 'Year Join': '4'}, {'Order': 97, 'Name': 'Laneige', 'URL': 'https://shopee.vn/laneigevn_officialstore', 'Type': 'Sắc Đẹp', 'Quantity Discount': 3, 'Quantity Type Product': 20, 'Year Join': '3'}, {'Order': 98, 'Name': 'Lata', 'URL': 'https://shopee.vn/latahcm', 'Type': 'Túi Ví Nữ', 'Quantity Discount': 3, 'Quantity Type Product': 24, 'Year Join': '5'}, {'Order': 99, 'Name': 'Latashop', 'URL': 'https://shopee.vn/latahcm', 'Type': 'Túi Ví Nữ', 'Quantity Discount': 3, 'Quantity Type Product': 24, 'Year Join': '5'}, {'Order': 100, 'Name': 'Laza', 'URL': 'https://shopee.vn/lazashop.vn', 'Type': 'Balo & Túi Ví Nam', 'Quantity Discount': 2, 'Quantity Type Product': 10, 'Year Join': '7'}]\n"
     ]
    }
   ],
   "source": [
    "df = pd.read_csv('ShopeeMall.csv')\n",
    "\n",
    "headers = ['Order', 'Name', 'URL','Quantity Discount','Quantity Type Product','Year Join']\n",
    "arraydf = np.array(df)\n",
    "result = []\n",
    "\n",
    "for a in arraydf:\n",
    "    # access link shop\n",
    "    driver.get(a[-1])\n",
    "    sleep(2)\n",
    "    print('Acess shop:' +a[1])\n",
    "    driver.execute_script('window.scrollTo(0, document.body.scrollHeight);') #scroll to the end of the page\n",
    "    sleep(1)\n",
    "    shop_detail = BeautifulSoup(driver.page_source,'html.parser')\n",
    "    sleep(1)\n",
    "    \n",
    "    #year\n",
    "    shop_info = shop_detail.find_all('div',{'class': 'section-seller-overview__item-text-value'})\n",
    "    shop_info_year = shop_info[-1].text\n",
    "    year_split = shop_info_year.split(' ')\n",
    "    if(year_split[1]== 'tháng'):\n",
    "        yearint = int(year_split[0])\n",
    "        year = math.floor(yearint/12)\n",
    "    else: \n",
    "        year = year_split[0]\n",
    "\n",
    "    #count discount\n",
    "    discount_quantity = shop_detail.find_all('div',{'class': '_7ojJBF'})\n",
    "\n",
    "    #count type product\n",
    "    type_product_quantity = shop_detail.find_all('div',{'class': '_1_yYlR'})\n",
    "\n",
    "    result.append({headers[0]:a[0],\n",
    "    headers[1]:a[1],\n",
    "    headers[2]:a[2],\n",
    "    headers[3]:len(discount_quantity),\n",
    "    headers[4]:len(type_product_quantity)-1,\n",
    "    headers[5]:year})\n",
    "    \n",
    "print(result)"
   ]
  },
  {
   "cell_type": "code",
   "execution_count": 29,
   "metadata": {},
   "outputs": [],
   "source": [
    "with open('ShopeeMallUpdate.csv', 'w', encoding='utf-8', newline = '') as file_output:\n",
    "    writer = csv.DictWriter(file_output, delimiter=',', lineterminator='\\n',fieldnames=headers)\n",
    "    writer.writeheader()\n",
    "    for res in result:\n",
    "        writer.writerow(res)"
   ]
  }
 ],
 "metadata": {
  "kernelspec": {
   "display_name": "Python 3.10.4 64-bit",
   "language": "python",
   "name": "python3"
  },
  "language_info": {
   "codemirror_mode": {
    "name": "ipython",
    "version": 3
   },
   "file_extension": ".py",
   "mimetype": "text/x-python",
   "name": "python",
   "nbconvert_exporter": "python",
   "pygments_lexer": "ipython3",
   "version": "3.10.4"
  },
  "orig_nbformat": 4,
  "vscode": {
   "interpreter": {
    "hash": "31f2aee4e71d21fbe5cf8b01ff0e069b9275f58929596ceb00d14d90e3e16cd6"
   }
  }
 },
 "nbformat": 4,
 "nbformat_minor": 2
}
