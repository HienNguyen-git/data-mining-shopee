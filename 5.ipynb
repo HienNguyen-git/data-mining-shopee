{
 "cells": [
  {
   "cell_type": "code",
   "execution_count": 1,
   "metadata": {},
   "outputs": [
    {
     "name": "stdout",
     "output_type": "stream",
     "text": [
      "- Finish importing packages\n"
     ]
    }
   ],
   "source": [
    "# Import libraries and packages for the project \n",
    "\n",
    "from selenium import webdriver\n",
    "from tqdm.notebook import tqdm\n",
    "from selenium.webdriver.common.keys import Keys\n",
    "from bs4 import BeautifulSoup\n",
    "from time import sleep\n",
    "from selenium.webdriver.support.ui import WebDriverWait\n",
    "from selenium.webdriver.support import expected_conditions as EC\n",
    "import csv\n",
    "from selenium.webdriver.chrome.service import Service\n",
    "from webdriver_manager.chrome import ChromeDriverManager\n",
    "from selenium.webdriver.chrome.options import Options\n",
    "from selenium.webdriver.common.by import By\n",
    "from selenium.common.exceptions import TimeoutException\n",
    "import random\n",
    "import numpy as np\n",
    "import pandas as pd\n",
    "from underthesea import sentiment\n",
    "\n",
    "\n",
    "print('- Finish importing packages')"
   ]
  },
  {
   "cell_type": "code",
   "execution_count": 2,
   "metadata": {},
   "outputs": [
    {
     "data": {
      "text/html": [
       "<div>\n",
       "<style scoped>\n",
       "    .dataframe tbody tr th:only-of-type {\n",
       "        vertical-align: middle;\n",
       "    }\n",
       "\n",
       "    .dataframe tbody tr th {\n",
       "        vertical-align: top;\n",
       "    }\n",
       "\n",
       "    .dataframe thead th {\n",
       "        text-align: right;\n",
       "    }\n",
       "</style>\n",
       "<table border=\"1\" class=\"dataframe\">\n",
       "  <thead>\n",
       "    <tr style=\"text-align: right;\">\n",
       "      <th></th>\n",
       "      <th>Order</th>\n",
       "      <th>Name</th>\n",
       "      <th>URL</th>\n",
       "    </tr>\n",
       "  </thead>\n",
       "  <tbody>\n",
       "    <tr>\n",
       "      <th>0</th>\n",
       "      <td>1</td>\n",
       "      <td>Abbott</td>\n",
       "      <td>https://shopee.vn/abbottofficial</td>\n",
       "    </tr>\n",
       "    <tr>\n",
       "      <th>1</th>\n",
       "      <td>2</td>\n",
       "      <td>Adidas Official Store</td>\n",
       "      <td>https://shopee.vn/adidasofficialstore</td>\n",
       "    </tr>\n",
       "    <tr>\n",
       "      <th>2</th>\n",
       "      <td>3</td>\n",
       "      <td>Alobuy</td>\n",
       "      <td>https://shopee.vn/1khovn_bach_hoa_tien_loi</td>\n",
       "    </tr>\n",
       "    <tr>\n",
       "      <th>3</th>\n",
       "      <td>4</td>\n",
       "      <td>Amak</td>\n",
       "      <td>https://shopee.vn/nhasachamak</td>\n",
       "    </tr>\n",
       "    <tr>\n",
       "      <th>4</th>\n",
       "      <td>5</td>\n",
       "      <td>An Nguyên</td>\n",
       "      <td>https://shopee.vn/sachhayquanhieu</td>\n",
       "    </tr>\n",
       "  </tbody>\n",
       "</table>\n",
       "</div>"
      ],
      "text/plain": [
       "   Order                   Name                                         URL\n",
       "0      1                 Abbott            https://shopee.vn/abbottofficial\n",
       "1      2  Adidas Official Store       https://shopee.vn/adidasofficialstore\n",
       "2      3                 Alobuy  https://shopee.vn/1khovn_bach_hoa_tien_loi\n",
       "3      4                   Amak               https://shopee.vn/nhasachamak\n",
       "4      5              An Nguyên           https://shopee.vn/sachhayquanhieu"
      ]
     },
     "execution_count": 2,
     "metadata": {},
     "output_type": "execute_result"
    }
   ],
   "source": [
    "raw = pd.read_csv('ShopeeMall.csv')\n",
    "raw.head()"
   ]
  },
  {
   "cell_type": "code",
   "execution_count": 3,
   "metadata": {},
   "outputs": [],
   "source": [
    "df = np.array(raw)"
   ]
  },
  {
   "cell_type": "code",
   "execution_count": 4,
   "metadata": {},
   "outputs": [
    {
     "name": "stdout",
     "output_type": "stream",
     "text": [
      "\n"
     ]
    },
    {
     "name": "stderr",
     "output_type": "stream",
     "text": [
      "[WDM] - ====== WebDriver manager ======\n",
      "[WDM] - Current google-chrome version is 104.0.5112\n",
      "[WDM] - Get LATEST chromedriver version for 104.0.5112 google-chrome\n",
      "[WDM] - Driver [/home/dijkstra/.wdm/drivers/chromedriver/linux64/104.0.5112.20/chromedriver] found in cache\n"
     ]
    }
   ],
   "source": [
    "service = Service(executable_path=ChromeDriverManager().install())\n",
    "driver = webdriver.Chrome(service=service)\n",
    "wait = WebDriverWait(driver,20)\n",
    "url = \"https://shopee.vn/\"\n",
    "# Login to shopee account\n",
    "# login_url = \"https://shopee.vn/buyer/login/qr?next=https%3A%2F%2Fshopee.vn%2Fuser%2Fpurchase%2F\"\n",
    "# driver.get(login_url)\n",
    "# sleep(40)"
   ]
  },
  {
   "cell_type": "code",
   "execution_count": 5,
   "metadata": {},
   "outputs": [
    {
     "data": {
      "application/vnd.jupyter.widget-view+json": {
       "model_id": "d39a1a0eee2a41f0a2fc7118abaffdad",
       "version_major": 2,
       "version_minor": 0
      },
      "text/plain": [
       "  0%|          | 0/100 [00:00<?, ?it/s]"
      ]
     },
     "metadata": {},
     "output_type": "display_data"
    },
    {
     "name": "stdout",
     "output_type": "stream",
     "text": [
      "- Accessing shop:  https://shopee.vn/abbottofficial\n",
      "- Accessing shop:  https://shopee.vn/adidasofficialstore\n",
      "- Accessing shop:  https://shopee.vn/1khovn_bach_hoa_tien_loi\n",
      "- Accessing shop:  https://shopee.vn/nhasachamak\n",
      "- Accessing shop:  https://shopee.vn/sachhayquanhieu\n",
      "- Accessing shop:  https://shopee.vn/anbertmangashop\n",
      "- Accessing shop:  https://shopee.vn/anbertmangashop3103\n",
      "- Accessing shop:  https://shopee.vn/anessaofficialstore\n",
      "- Accessing shop:  https://shopee.vn/ankervn\n",
      "- Accessing shop:  https://shopee.vn/anlene_officialstore\n",
      "- Accessing shop:  https://shopee.vn/babyhop_store\n",
      "- Accessing shop:  https://shopee.vn/balocongnghe\n",
      "- Accessing shop:  https://shopee.vn/bambamstore274\n",
      "- Accessing shop:  https://shopee.vn/hieusachbanhmi\n",
      "- Accessing shop:  https://shopee.vn/banxeer.vn\n",
      "- Accessing shop:  https://shopee.vn/baongocjewelry\n",
      "- Accessing shop:  https://shopee.vn/baseus.official.mall.vn\n",
      "- Accessing shop:  https://shopee.vn/basike.vn\n",
      "- Accessing shop:  https://shopee.vn/chovietbtw\n",
      "- Accessing shop:  https://shopee.vn/bbia_officialstore\n",
      "- Accessing shop:  https://shopee.vn/cap.man\n",
      "- Accessing shop:  https://shopee.vn/cchatclotheshn\n",
      "- Accessing shop:  https://shopee.vn/cenotaofficial\n",
      "- Accessing shop:  https://shopee.vn/nestlevnn\n",
      "- Accessing shop:  https://shopee.vn/chaangvietnam\n",
      "- Accessing shop:  https://shopee.vn/choobe.official\n",
      "- Accessing shop:  https://shopee.vn/scc_officialstore\n",
      "- Accessing shop:  https://shopee.vn/ckeyin.vn\n",
      "- Accessing shop:  https://shopee.vn/johnson_johnson_official\n",
      "- Accessing shop:  https://shopee.vn/tuixachcnt\n",
      "- Accessing shop:  https://shopee.vn/thovaushop_officialstore\n",
      "- Accessing shop:  https://shopee.vn/davies.vn\n",
      "- Accessing shop:  https://shopee.vn/decathlon_vietnam\n",
      "- Accessing shop:  https://shopee.vn/delivietnam\n",
      "- Accessing shop:  https://shopee.vn/dhc_officialstore\n",
      "- Accessing shop:  https://shopee.vn/dincox_shoes\n",
      "- Accessing shop:  https://shopee.vn/dirtycoins\n",
      "- Accessing shop:  https://shopee.vn/dk_harvest\n",
      "- Accessing shop:  https://shopee.vn/garden_tools_greenhome\n",
      "- Accessing shop:  https://shopee.vn/dr.saffron_official_store\n",
      "- Accessing shop:  https://shopee.vn/earldom.store\n",
      "- Accessing shop:  https://shopee.vn/elmartvn\n",
      "- Accessing shop:  https://shopee.vn/eleanoraccessories\n",
      "- Accessing shop:  https://shopee.vn/emmibedding\n",
      "- Accessing shop:  https://shopee.vn/enchanteur_vietnam\n",
      "- Accessing shop:  https://shopee.vn/enfaofficialstore\n",
      "- Accessing shop:  https://shopee.vn/erosska\n",
      "- Accessing shop:  https://shopee.vn/essager.vn\n",
      "- Accessing shop:  https://shopee.vn/eucerin.officialstore\n",
      "- Accessing shop:  https://shopee.vn/thoitrangeverest\n",
      "- Accessing shop:  https://shopee.vn/hangcongty\n",
      "- Accessing shop:  https://shopee.vn/fahasa.com\n",
      "- Accessing shop:  https://shopee.vn/khautrangytefamapro\n",
      "- Accessing shop:  https://shopee.vn/kissnewyork_officialstore\n",
      "- Accessing shop:  https://shopee.vn/fasvin\n",
      "- Accessing shop:  https://shopee.vn/feaer_store\n",
      "- Accessing shop:  https://shopee.vn/finetoo.vn\n",
      "- Accessing shop:  https://shopee.vn/fortunemouseofficial\n",
      "- Accessing shop:  https://shopee.vn/franciabeauty_officialstore\n",
      "- Accessing shop:  https://shopee.vn/gau194_official\n",
      "- Accessing shop:  https://shopee.vn/hapas.official\n",
      "- Accessing shop:  https://shopee.vn/harashop.vn\n",
      "- Accessing shop:  https://shopee.vn/toymall1.vn\n",
      "- Accessing shop:  https://shopee.vn/pg_officialstorevn\n",
      "- Accessing shop:  https://shopee.vn/himalayaherbalsvn\n",
      "- Accessing shop:  https://shopee.vn/hippofficialstore\n",
      "- Accessing shop:  https://shopee.vn/hisexy.vn\n",
      "- Accessing shop:  https://shopee.vn/vnhobbyshop\n",
      "- Accessing shop:  https://shopee.vn/hoco_flagship_official_store\n",
      "- Accessing shop:  https://shopee.vn/gepo.vn\n",
      "- Accessing shop:  https://shopee.vn/ibasicvietnam\n",
      "- Accessing shop:  https://shopee.vn/imagic_official.vn\n",
      "- Accessing shop:  https://shopee.vn/innisfreevietnam_officialstore\n",
      "- Accessing shop:  https://shopee.vn/inochivietnam\n",
      "- Accessing shop:  https://shopee.vn/ipm_vn\n",
      "- Accessing shop:  https://shopee.vn/ivymoda\n",
      "- Accessing shop:  https://shopee.vn/jeliva.vn\n",
      "- Accessing shop:  https://shopee.vn/johnson_johnson_official\n",
      "- Accessing shop:  https://shopee.vn/julyhouse_essoil\n",
      "- Accessing shop:  https://shopee.vn/juno.officialstore\n",
      "- Accessing shop:  https://shopee.vn/kamongclothing\n",
      "- Accessing shop:  https://shopee.vn/kamongclothing\n",
      "- Accessing shop:  https://shopee.vn/nxbkimdong\n",
      "- Accessing shop:  https://shopee.vn/kimusecosmetics.vn\n",
      "- Accessing shop:  https://shopee.vn/kingbeauty_officialstore\n",
      "- Accessing shop:  https://shopee.vn/kinhdo_official_store\n",
      "- Accessing shop:  https://shopee.vn/mars_petcare\n",
      "- Accessing shop:  https://shopee.vn/kobimart\n",
      "- Accessing shop:  https://shopee.vn/kojibavn\n",
      "- Accessing shop:  https://shopee.vn/krystal.vn\n",
      "- Accessing shop:  https://shopee.vn/lovito.vn\n",
      "- Accessing shop:  https://shopee.vn/larocheposay_officialstore\n",
      "- Accessing shop:  https://shopee.vn/labellevie.vn\n",
      "- Accessing shop:  https://shopee.vn/nguonhangthoitrang\n",
      "- Accessing shop:  https://shopee.vn/laikou.vn\n",
      "- Accessing shop:  https://shopee.vn/lamuseland.vn\n",
      "- Accessing shop:  https://shopee.vn/laneigevn_officialstore\n",
      "- Accessing shop:  https://shopee.vn/latahcm\n",
      "- Accessing shop:  https://shopee.vn/latahcm\n",
      "- Accessing shop:  https://shopee.vn/lazashop.vn\n",
      "Finished crawling data!\n"
     ]
    }
   ],
   "source": [
    "\n",
    "headers = ['Order', 'Name', 'URL', \"Rating\",\"Chat Response (%)\",\"Follower\"]\n",
    "char_dic = {'k':1000,'r': 1000000}\n",
    "update_data = []\n",
    "\n",
    "for shop in tqdm(df):\n",
    "\n",
    "    try:\n",
    "        driver.get(shop[2])\n",
    "        print('- Accessing shop: ', shop[2])\n",
    "        sleep(2)\n",
    "        driver.execute_script('window.scrollTo(0, 0);') #scroll to the end of the page\n",
    "        sleep(1)\n",
    "    except TimeoutException:\n",
    "        print(\"***************************\")\n",
    "        print(\"Loading took too much time!\")\n",
    "        print(\"***************************\")\n",
    "        continue\n",
    "\n",
    "\n",
    "    loop_page_source = BeautifulSoup(driver.page_source,\"html.parser\")\n",
    "    items = loop_page_source.find_all('div',{\"class\":[\"section-seller-overview__item-text-value\"]})\n",
    "    \n",
    "    # Clean data\n",
    "    if(len(items)==12):\n",
    "        rating_raw = items[9].text\n",
    "        chat_response_raw = items[4].text\n",
    "        follower_raw = items[7].text.replace(\",\",\".\")\n",
    "    else:\n",
    "        rating_raw = items[11].text\n",
    "        chat_response_raw = items[4].text\n",
    "        follower_raw = items[9].text.replace(\",\",\".\")\n",
    "\n",
    "    # Get rating of chat response \n",
    "    chat_response = chat_response_raw.split(\" \")[0][:-1]\n",
    "\n",
    "    # Get the number of follower\n",
    "    unit_char = follower_raw[-1]\n",
    "    if(unit_char.isdecimal()):\n",
    "        follower = int(follower_raw[:-1])\n",
    "    else:\n",
    "        value = \"\"\n",
    "        if(unit_char==\"k\"):\n",
    "            value = follower_raw[:-1]\n",
    "        else:\n",
    "            value = follower_raw[:-2]\n",
    "            \n",
    "        follower = float(value)*char_dic[unit_char]\n",
    "\n",
    "    # Get rating\n",
    "    rating = rating_raw.split(\" \")[0]\n",
    "\n",
    "\n",
    "    update_data.append({headers[0]:shop[0],headers[1]:shop[1],headers[2]:shop[2],headers[3]:rating,headers[4]:chat_response,headers[5]:follower})\n",
    "\n",
    "print(\"Finished crawling data!\")\n"
   ]
  },
  {
   "cell_type": "code",
   "execution_count": 6,
   "metadata": {},
   "outputs": [
    {
     "name": "stdout",
     "output_type": "stream",
     "text": [
      "Mission Completed!\n"
     ]
    }
   ],
   "source": [
    "with open('ShopeeMall5.csv', 'w',  newline = '') as file_output:\n",
    "    \n",
    "    writer = csv.DictWriter(file_output, delimiter=',', lineterminator='\\n',fieldnames=headers)\n",
    "    writer.writeheader()\n",
    "    for shop in update_data:\n",
    "        writer.writerow(shop)\n",
    "\n",
    "print('Mission Completed!')"
   ]
  },
  {
   "cell_type": "code",
   "execution_count": null,
   "metadata": {},
   "outputs": [],
   "source": []
  }
 ],
 "metadata": {
  "kernelspec": {
   "display_name": "Python 3.10.4 64-bit",
   "language": "python",
   "name": "python3"
  },
  "language_info": {
   "codemirror_mode": {
    "name": "ipython",
    "version": 3
   },
   "file_extension": ".py",
   "mimetype": "text/x-python",
   "name": "python",
   "nbconvert_exporter": "python",
   "pygments_lexer": "ipython3",
   "version": "3.10.4"
  },
  "orig_nbformat": 4,
  "vscode": {
   "interpreter": {
    "hash": "31f2aee4e71d21fbe5cf8b01ff0e069b9275f58929596ceb00d14d90e3e16cd6"
   }
  }
 },
 "nbformat": 4,
 "nbformat_minor": 2
}
